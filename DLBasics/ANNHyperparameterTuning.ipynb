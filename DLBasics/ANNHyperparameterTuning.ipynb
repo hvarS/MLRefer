{
  "nbformat": 4,
  "nbformat_minor": 0,
  "metadata": {
    "colab": {
      "name": "ANNHyperparameterTuning.ipynb",
      "provenance": []
    },
    "kernelspec": {
      "name": "python3",
      "display_name": "Python 3"
    },
    "language_info": {
      "name": "python"
    }
  },
  "cells": [
    {
      "cell_type": "code",
      "metadata": {
        "colab": {
          "base_uri": "https://localhost:8080/"
        },
        "id": "aY1vG2U7yjas",
        "outputId": "76186c30-5038-40c1-bc10-1931bf923899"
      },
      "source": [
        "!pip install keras-tuner"
      ],
      "execution_count": 1,
      "outputs": [
        {
          "output_type": "stream",
          "text": [
            "Collecting keras-tuner\n",
            "\u001b[?25l  Downloading https://files.pythonhosted.org/packages/20/ec/1ef246787174b1e2bb591c95f29d3c1310070cad877824f907faba3dade9/keras-tuner-1.0.2.tar.gz (62kB)\n",
            "\r\u001b[K     |█████▏                          | 10kB 16.7MB/s eta 0:00:01\r\u001b[K     |██████████▍                     | 20kB 21.3MB/s eta 0:00:01\r\u001b[K     |███████████████▋                | 30kB 10.4MB/s eta 0:00:01\r\u001b[K     |████████████████████▉           | 40kB 8.3MB/s eta 0:00:01\r\u001b[K     |██████████████████████████      | 51kB 5.5MB/s eta 0:00:01\r\u001b[K     |███████████████████████████████▎| 61kB 6.1MB/s eta 0:00:01\r\u001b[K     |████████████████████████████████| 71kB 3.3MB/s \n",
            "\u001b[?25hRequirement already satisfied: packaging in /usr/local/lib/python3.7/dist-packages (from keras-tuner) (20.9)\n",
            "Requirement already satisfied: future in /usr/local/lib/python3.7/dist-packages (from keras-tuner) (0.16.0)\n",
            "Requirement already satisfied: numpy in /usr/local/lib/python3.7/dist-packages (from keras-tuner) (1.19.5)\n",
            "Requirement already satisfied: tabulate in /usr/local/lib/python3.7/dist-packages (from keras-tuner) (0.8.9)\n",
            "Collecting terminaltables\n",
            "  Downloading https://files.pythonhosted.org/packages/9b/c4/4a21174f32f8a7e1104798c445dacdc1d4df86f2f26722767034e4de4bff/terminaltables-3.1.0.tar.gz\n",
            "Collecting colorama\n",
            "  Downloading https://files.pythonhosted.org/packages/44/98/5b86278fbbf250d239ae0ecb724f8572af1c91f4a11edf4d36a206189440/colorama-0.4.4-py2.py3-none-any.whl\n",
            "Requirement already satisfied: tqdm in /usr/local/lib/python3.7/dist-packages (from keras-tuner) (4.41.1)\n",
            "Requirement already satisfied: requests in /usr/local/lib/python3.7/dist-packages (from keras-tuner) (2.23.0)\n",
            "Requirement already satisfied: scipy in /usr/local/lib/python3.7/dist-packages (from keras-tuner) (1.4.1)\n",
            "Requirement already satisfied: scikit-learn in /usr/local/lib/python3.7/dist-packages (from keras-tuner) (0.22.2.post1)\n",
            "Requirement already satisfied: pyparsing>=2.0.2 in /usr/local/lib/python3.7/dist-packages (from packaging->keras-tuner) (2.4.7)\n",
            "Requirement already satisfied: chardet<4,>=3.0.2 in /usr/local/lib/python3.7/dist-packages (from requests->keras-tuner) (3.0.4)\n",
            "Requirement already satisfied: idna<3,>=2.5 in /usr/local/lib/python3.7/dist-packages (from requests->keras-tuner) (2.10)\n",
            "Requirement already satisfied: certifi>=2017.4.17 in /usr/local/lib/python3.7/dist-packages (from requests->keras-tuner) (2020.12.5)\n",
            "Requirement already satisfied: urllib3!=1.25.0,!=1.25.1,<1.26,>=1.21.1 in /usr/local/lib/python3.7/dist-packages (from requests->keras-tuner) (1.24.3)\n",
            "Requirement already satisfied: joblib>=0.11 in /usr/local/lib/python3.7/dist-packages (from scikit-learn->keras-tuner) (1.0.1)\n",
            "Building wheels for collected packages: keras-tuner, terminaltables\n",
            "  Building wheel for keras-tuner (setup.py) ... \u001b[?25l\u001b[?25hdone\n",
            "  Created wheel for keras-tuner: filename=keras_tuner-1.0.2-cp37-none-any.whl size=78938 sha256=6feac23d20e139b7492384ea835b42d6e98eec34c8b9a5094dec0b88b0d87616\n",
            "  Stored in directory: /root/.cache/pip/wheels/bb/a1/8a/7c3de0efb3707a1701b36ebbfdbc4e67aedf6d4943a1f463d6\n",
            "  Building wheel for terminaltables (setup.py) ... \u001b[?25l\u001b[?25hdone\n",
            "  Created wheel for terminaltables: filename=terminaltables-3.1.0-cp37-none-any.whl size=15356 sha256=8690ea6748a7c77317afab8c0b5c8a4f96cca9bc86a0a87b6ca6fd4f4fd982e2\n",
            "  Stored in directory: /root/.cache/pip/wheels/30/6b/50/6c75775b681fb36cdfac7f19799888ef9d8813aff9e379663e\n",
            "Successfully built keras-tuner terminaltables\n",
            "Installing collected packages: terminaltables, colorama, keras-tuner\n",
            "Successfully installed colorama-0.4.4 keras-tuner-1.0.2 terminaltables-3.1.0\n"
          ],
          "name": "stdout"
        }
      ]
    },
    {
      "cell_type": "code",
      "metadata": {
        "id": "U0sR8PBxxQGD"
      },
      "source": [
        "import pandas as pd\n",
        "import numpy as np\n",
        "from tensorflow import keras \n",
        "from tensorflow.keras import layers\n",
        "from kerastuner.tuners import RandomSearch"
      ],
      "execution_count": 2,
      "outputs": []
    },
    {
      "cell_type": "code",
      "metadata": {
        "colab": {
          "base_uri": "https://localhost:8080/"
        },
        "id": "LSv-6BycysbU",
        "outputId": "70b31948-593b-4f60-8340-e7714dadde49"
      },
      "source": [
        "from google.colab import drive\n",
        "drive.mount('/content/gdrive')\n",
        "\n",
        "\n",
        "def setup_dataset(text):\n",
        "  import shutil\n",
        "  import os\n",
        "  %cd /content/gdrive/My Drive/Kaggle/\n",
        "  strings = text.split(' ')[-1]\n",
        "  folder = strings.split('/')[1]\n",
        "  os.environ['KAGGLE_CONFIG_DIR'] = \"/content/gdrive/My Drive/Kaggle/\"+folder\n",
        "  print(strings)\n",
        "  print(folder)\n",
        "  !mkdir $folder\n",
        "  shutil.copy2(\"kaggle.json\",\"./\"+folder+\"/kaggle.json\")\n",
        "  %cd $folder\n",
        "  !kaggle datasets download -d $strings\n",
        "  \n",
        "setup_dataset(\"kaggle datasets download -d rashikrahmanpritom/heart-attack-analysis-prediction-dataset\")"
      ],
      "execution_count": 3,
      "outputs": [
        {
          "output_type": "stream",
          "text": [
            "Mounted at /content/gdrive\n",
            "/content/gdrive/My Drive/Kaggle\n",
            "rashikrahmanpritom/heart-attack-analysis-prediction-dataset\n",
            "heart-attack-analysis-prediction-dataset\n",
            "mkdir: cannot create directory ‘heart-attack-analysis-prediction-dataset’: File exists\n",
            "/content/gdrive/My Drive/Kaggle/heart-attack-analysis-prediction-dataset\n",
            "heart-attack-analysis-prediction-dataset.zip: Skipping, found more recently modified local copy (use --force to force download)\n"
          ],
          "name": "stdout"
        }
      ]
    },
    {
      "cell_type": "code",
      "metadata": {
        "colab": {
          "base_uri": "https://localhost:8080/"
        },
        "id": "xR-y0QXuz789",
        "outputId": "139f716f-0bba-4005-c7e9-c43aa6e96291"
      },
      "source": [
        "%ls"
      ],
      "execution_count": 4,
      "outputs": [
        {
          "output_type": "stream",
          "text": [
            "heart-attack-analysis-prediction-dataset.zip  o2Saturation.csv\n",
            "heart.csv                                     \u001b[0m\u001b[01;34muntitled_project\u001b[0m/\n",
            "kaggle.json\n"
          ],
          "name": "stdout"
        }
      ]
    },
    {
      "cell_type": "code",
      "metadata": {
        "colab": {
          "base_uri": "https://localhost:8080/"
        },
        "id": "GPCtyjqoyv_R",
        "outputId": "9cb6fb99-bfb6-48f0-ed33-0da09bbefdf2"
      },
      "source": [
        "!unzip heart-attack-analysis-prediction-dataset.zip"
      ],
      "execution_count": 5,
      "outputs": [
        {
          "output_type": "stream",
          "text": [
            "Archive:  heart-attack-analysis-prediction-dataset.zip\n",
            "replace heart.csv? [y]es, [n]o, [A]ll, [N]one, [r]ename: n\n",
            "replace o2Saturation.csv? [y]es, [n]o, [A]ll, [N]one, [r]ename: n\n"
          ],
          "name": "stdout"
        }
      ]
    },
    {
      "cell_type": "code",
      "metadata": {
        "id": "7N3LrDcwz-4B"
      },
      "source": [
        "df = pd.read_csv(\"heart.csv\")"
      ],
      "execution_count": 6,
      "outputs": []
    },
    {
      "cell_type": "code",
      "metadata": {
        "id": "ebjHXLrQ0WnN"
      },
      "source": [
        "x = df.iloc[:,:-1]\n",
        "y = df.iloc[:,-1]"
      ],
      "execution_count": 7,
      "outputs": []
    },
    {
      "cell_type": "code",
      "metadata": {
        "colab": {
          "base_uri": "https://localhost:8080/",
          "height": 204
        },
        "id": "ZJEHVJc40akG",
        "outputId": "be56e405-339b-4473-d199-d18211081f54"
      },
      "source": [
        "x.head()"
      ],
      "execution_count": 8,
      "outputs": [
        {
          "output_type": "execute_result",
          "data": {
            "text/html": [
              "<div>\n",
              "<style scoped>\n",
              "    .dataframe tbody tr th:only-of-type {\n",
              "        vertical-align: middle;\n",
              "    }\n",
              "\n",
              "    .dataframe tbody tr th {\n",
              "        vertical-align: top;\n",
              "    }\n",
              "\n",
              "    .dataframe thead th {\n",
              "        text-align: right;\n",
              "    }\n",
              "</style>\n",
              "<table border=\"1\" class=\"dataframe\">\n",
              "  <thead>\n",
              "    <tr style=\"text-align: right;\">\n",
              "      <th></th>\n",
              "      <th>age</th>\n",
              "      <th>sex</th>\n",
              "      <th>cp</th>\n",
              "      <th>trtbps</th>\n",
              "      <th>chol</th>\n",
              "      <th>fbs</th>\n",
              "      <th>restecg</th>\n",
              "      <th>thalachh</th>\n",
              "      <th>exng</th>\n",
              "      <th>oldpeak</th>\n",
              "      <th>slp</th>\n",
              "      <th>caa</th>\n",
              "      <th>thall</th>\n",
              "    </tr>\n",
              "  </thead>\n",
              "  <tbody>\n",
              "    <tr>\n",
              "      <th>0</th>\n",
              "      <td>63</td>\n",
              "      <td>1</td>\n",
              "      <td>3</td>\n",
              "      <td>145</td>\n",
              "      <td>233</td>\n",
              "      <td>1</td>\n",
              "      <td>0</td>\n",
              "      <td>150</td>\n",
              "      <td>0</td>\n",
              "      <td>2.3</td>\n",
              "      <td>0</td>\n",
              "      <td>0</td>\n",
              "      <td>1</td>\n",
              "    </tr>\n",
              "    <tr>\n",
              "      <th>1</th>\n",
              "      <td>37</td>\n",
              "      <td>1</td>\n",
              "      <td>2</td>\n",
              "      <td>130</td>\n",
              "      <td>250</td>\n",
              "      <td>0</td>\n",
              "      <td>1</td>\n",
              "      <td>187</td>\n",
              "      <td>0</td>\n",
              "      <td>3.5</td>\n",
              "      <td>0</td>\n",
              "      <td>0</td>\n",
              "      <td>2</td>\n",
              "    </tr>\n",
              "    <tr>\n",
              "      <th>2</th>\n",
              "      <td>41</td>\n",
              "      <td>0</td>\n",
              "      <td>1</td>\n",
              "      <td>130</td>\n",
              "      <td>204</td>\n",
              "      <td>0</td>\n",
              "      <td>0</td>\n",
              "      <td>172</td>\n",
              "      <td>0</td>\n",
              "      <td>1.4</td>\n",
              "      <td>2</td>\n",
              "      <td>0</td>\n",
              "      <td>2</td>\n",
              "    </tr>\n",
              "    <tr>\n",
              "      <th>3</th>\n",
              "      <td>56</td>\n",
              "      <td>1</td>\n",
              "      <td>1</td>\n",
              "      <td>120</td>\n",
              "      <td>236</td>\n",
              "      <td>0</td>\n",
              "      <td>1</td>\n",
              "      <td>178</td>\n",
              "      <td>0</td>\n",
              "      <td>0.8</td>\n",
              "      <td>2</td>\n",
              "      <td>0</td>\n",
              "      <td>2</td>\n",
              "    </tr>\n",
              "    <tr>\n",
              "      <th>4</th>\n",
              "      <td>57</td>\n",
              "      <td>0</td>\n",
              "      <td>0</td>\n",
              "      <td>120</td>\n",
              "      <td>354</td>\n",
              "      <td>0</td>\n",
              "      <td>1</td>\n",
              "      <td>163</td>\n",
              "      <td>1</td>\n",
              "      <td>0.6</td>\n",
              "      <td>2</td>\n",
              "      <td>0</td>\n",
              "      <td>2</td>\n",
              "    </tr>\n",
              "  </tbody>\n",
              "</table>\n",
              "</div>"
            ],
            "text/plain": [
              "   age  sex  cp  trtbps  chol  fbs  ...  thalachh  exng  oldpeak  slp  caa  thall\n",
              "0   63    1   3     145   233    1  ...       150     0      2.3    0    0      1\n",
              "1   37    1   2     130   250    0  ...       187     0      3.5    0    0      2\n",
              "2   41    0   1     130   204    0  ...       172     0      1.4    2    0      2\n",
              "3   56    1   1     120   236    0  ...       178     0      0.8    2    0      2\n",
              "4   57    0   0     120   354    0  ...       163     1      0.6    2    0      2\n",
              "\n",
              "[5 rows x 13 columns]"
            ]
          },
          "metadata": {
            "tags": []
          },
          "execution_count": 8
        }
      ]
    },
    {
      "cell_type": "code",
      "metadata": {
        "id": "Zcqaa1e30bUU"
      },
      "source": [
        "from sklearn.model_selection import train_test_split\n"
      ],
      "execution_count": 9,
      "outputs": []
    },
    {
      "cell_type": "code",
      "metadata": {
        "id": "QfGqdKKm0pjC"
      },
      "source": [
        "x_train,x_test,y_train,y_test = train_test_split(x,y,test_size = 0.15\n",
        "                                                 )"
      ],
      "execution_count": 10,
      "outputs": []
    },
    {
      "cell_type": "code",
      "metadata": {
        "id": "ycA_qWTN0vGd"
      },
      "source": [
        "from sklearn.preprocessing import StandardScaler"
      ],
      "execution_count": 11,
      "outputs": []
    },
    {
      "cell_type": "code",
      "metadata": {
        "id": "UalQf-j70zGc"
      },
      "source": [
        "ss = StandardScaler()"
      ],
      "execution_count": 12,
      "outputs": []
    },
    {
      "cell_type": "code",
      "metadata": {
        "id": "gfvdUlFo00Wx"
      },
      "source": [
        "x_train = ss.fit_transform(x_train)"
      ],
      "execution_count": 13,
      "outputs": []
    },
    {
      "cell_type": "code",
      "metadata": {
        "id": "9p_CXbw_03tO"
      },
      "source": [
        "x_test = ss.fit_transform(x_test)"
      ],
      "execution_count": 14,
      "outputs": []
    },
    {
      "cell_type": "code",
      "metadata": {
        "colab": {
          "base_uri": "https://localhost:8080/"
        },
        "id": "tBnnuxsT06zZ",
        "outputId": "e88cdaa8-a805-4d33-b731-b8948793490d"
      },
      "source": [
        "x_train.shape[1]"
      ],
      "execution_count": 15,
      "outputs": [
        {
          "output_type": "execute_result",
          "data": {
            "text/plain": [
              "13"
            ]
          },
          "metadata": {
            "tags": []
          },
          "execution_count": 15
        }
      ]
    },
    {
      "cell_type": "markdown",
      "metadata": {
        "id": "VYqgu0rz1A2D"
      },
      "source": [
        "##Model Creation with hyperparameter optimisation"
      ]
    },
    {
      "cell_type": "code",
      "metadata": {
        "id": "RYEtq0kQ-tkC"
      },
      "source": [
        "!rm -r heart_model"
      ],
      "execution_count": 37,
      "outputs": []
    },
    {
      "cell_type": "code",
      "metadata": {
        "id": "oZ036o4B1IdX"
      },
      "source": [
        "def build_model(hp):\n",
        "  model = keras.Sequential()  #Model Definition\n",
        "\n",
        "  for i in range(hp.Int('num_layers',2,20)):       #Select number of hidden layers from 2 to 20\n",
        "    model.add(layers.Dense(units = hp.Int('units_'+str(i),min_value = 4,max_value = 516,step = 16),\n",
        "                           activation = \"relu\"\n",
        "                          )\n",
        "              )\n",
        "  model.add(layers.Dense(1,activation = \"sigmoid\"))\n",
        "  model.compile(\n",
        "      optimizer = keras.optimizers.Adam(\n",
        "          hp.Choice('learning_rate',[1e-1,1e-2,1e-3,1e-4]),\n",
        "      ),\n",
        "      loss = \"binary_crossentropy\",\n",
        "      metrics = [\"binary_accuracy\"]\n",
        "  )\n",
        "  return model"
      ],
      "execution_count": 38,
      "outputs": []
    },
    {
      "cell_type": "code",
      "metadata": {
        "id": "C5va80bB4qk0"
      },
      "source": [
        "tuner = RandomSearch(\n",
        "    build_model,\n",
        "    objective = \"val_binary_accuracy\",\n",
        "    max_trials = 5,\n",
        "    executions_per_trial = 3,\n",
        "    directory='heart_model',\n",
        "    project_name='heart_classification'\n",
        ")"
      ],
      "execution_count": 39,
      "outputs": []
    },
    {
      "cell_type": "code",
      "metadata": {
        "colab": {
          "base_uri": "https://localhost:8080/"
        },
        "id": "rcXMMkyW5c3A",
        "outputId": "d80baddd-1999-4755-8d21-4738eb3f25a2"
      },
      "source": [
        "tuner.search_space_summary()"
      ],
      "execution_count": 40,
      "outputs": [
        {
          "output_type": "stream",
          "text": [
            "Search space summary\n",
            "Default search space size: 4\n",
            "num_layers (Int)\n",
            "{'default': None, 'conditions': [], 'min_value': 2, 'max_value': 20, 'step': 1, 'sampling': None}\n",
            "units_0 (Int)\n",
            "{'default': None, 'conditions': [], 'min_value': 4, 'max_value': 516, 'step': 16, 'sampling': None}\n",
            "units_1 (Int)\n",
            "{'default': None, 'conditions': [], 'min_value': 4, 'max_value': 516, 'step': 16, 'sampling': None}\n",
            "learning_rate (Choice)\n",
            "{'default': 0.1, 'conditions': [], 'values': [0.1, 0.01, 0.001, 0.0001], 'ordered': True}\n"
          ],
          "name": "stdout"
        }
      ]
    },
    {
      "cell_type": "code",
      "metadata": {
        "colab": {
          "base_uri": "https://localhost:8080/"
        },
        "id": "J2uzYywt5tiJ",
        "outputId": "0dac3baa-dcb4-42f0-e800-6afd33ae1530"
      },
      "source": [
        "tuner.search(x_train,y_train,epochs =50,validation_data = (x_test,y_test))"
      ],
      "execution_count": 41,
      "outputs": [
        {
          "output_type": "stream",
          "text": [
            "Trial 5 Complete [00h 00m 25s]\n",
            "val_binary_accuracy: 0.7898550629615784\n",
            "\n",
            "Best val_binary_accuracy So Far: 0.8478260636329651\n",
            "Total elapsed time: 00h 01m 39s\n",
            "INFO:tensorflow:Oracle triggered exit\n"
          ],
          "name": "stdout"
        }
      ]
    },
    {
      "cell_type": "code",
      "metadata": {
        "colab": {
          "base_uri": "https://localhost:8080/"
        },
        "id": "Mm_yPjlh6Jnm",
        "outputId": "3bd31a98-4b67-4cba-f99e-8dc6e833745b"
      },
      "source": [
        "tuner.results_summary()"
      ],
      "execution_count": 42,
      "outputs": [
        {
          "output_type": "stream",
          "text": [
            "Results summary\n",
            "Results in heart_model/heart_classification\n",
            "Showing 10 best trials\n",
            "Objective(name='val_binary_accuracy', direction='max')\n",
            "Trial summary\n",
            "Hyperparameters:\n",
            "num_layers: 2\n",
            "units_0: 372\n",
            "units_1: 356\n",
            "learning_rate: 0.01\n",
            "Score: 0.8478260636329651\n",
            "Trial summary\n",
            "Hyperparameters:\n",
            "num_layers: 5\n",
            "units_0: 180\n",
            "units_1: 212\n",
            "learning_rate: 0.001\n",
            "units_2: 4\n",
            "units_3: 4\n",
            "units_4: 4\n",
            "Score: 0.8405796885490417\n",
            "Trial summary\n",
            "Hyperparameters:\n",
            "num_layers: 6\n",
            "units_0: 260\n",
            "units_1: 132\n",
            "learning_rate: 0.0001\n",
            "units_2: 436\n",
            "units_3: 116\n",
            "units_4: 68\n",
            "units_5: 436\n",
            "units_6: 84\n",
            "units_7: 164\n",
            "units_8: 100\n",
            "units_9: 340\n",
            "Score: 0.8260869383811951\n",
            "Trial summary\n",
            "Hyperparameters:\n",
            "num_layers: 5\n",
            "units_0: 20\n",
            "units_1: 100\n",
            "learning_rate: 0.0001\n",
            "units_2: 180\n",
            "units_3: 484\n",
            "units_4: 468\n",
            "units_5: 164\n",
            "units_6: 100\n",
            "units_7: 308\n",
            "units_8: 324\n",
            "units_9: 372\n",
            "Score: 0.7898550629615784\n",
            "Trial summary\n",
            "Hyperparameters:\n",
            "num_layers: 10\n",
            "units_0: 420\n",
            "units_1: 132\n",
            "learning_rate: 0.1\n",
            "units_2: 116\n",
            "units_3: 100\n",
            "units_4: 484\n",
            "units_5: 4\n",
            "units_6: 4\n",
            "units_7: 4\n",
            "units_8: 4\n",
            "units_9: 4\n",
            "Score: 0.54347825050354\n"
          ],
          "name": "stdout"
        }
      ]
    },
    {
      "cell_type": "markdown",
      "metadata": {
        "id": "AWUQsgnkCwo8"
      },
      "source": [
        "##Using Best model from above to create the best performing NN"
      ]
    },
    {
      "cell_type": "code",
      "metadata": {
        "colab": {
          "base_uri": "https://localhost:8080/",
          "height": 35
        },
        "id": "D7QpE_inC1jc",
        "outputId": "c7f7540c-6886-49bc-9adf-a2f9f8d513cd"
      },
      "source": [
        "\"\"\"\n",
        "Hyperparameters:\n",
        "num_layers: 2\n",
        "units_0: 372\n",
        "units_1: 356\n",
        "learning_rate: 0.01\n",
        "\"\"\""
      ],
      "execution_count": 43,
      "outputs": [
        {
          "output_type": "execute_result",
          "data": {
            "application/vnd.google.colaboratory.intrinsic+json": {
              "type": "string"
            },
            "text/plain": [
              "'\\nHyperparameters:\\nnum_layers: 2\\nunits_0: 372\\nunits_1: 356\\nlearning_rate: 0.01\\n'"
            ]
          },
          "metadata": {
            "tags": []
          },
          "execution_count": 43
        }
      ]
    },
    {
      "cell_type": "code",
      "metadata": {
        "id": "QSg-iorgEs2H"
      },
      "source": [
        "from keras.models import Sequential\n",
        "from keras.layers import Dense\n",
        "from keras.layers import LeakyReLU,PReLU,ELU\n",
        "from keras.layers import Dropout"
      ],
      "execution_count": 84,
      "outputs": []
    },
    {
      "cell_type": "code",
      "metadata": {
        "id": "YeIxGvj9C8pu"
      },
      "source": [
        "best_model = keras.Sequential()"
      ],
      "execution_count": 85,
      "outputs": []
    },
    {
      "cell_type": "code",
      "metadata": {
        "id": "YRcH7nEADAC6"
      },
      "source": [
        "best_model.add(Dense(372,activation=\"relu\",input_dim = 13))"
      ],
      "execution_count": 86,
      "outputs": []
    },
    {
      "cell_type": "code",
      "metadata": {
        "id": "MomD-L4MDhmB"
      },
      "source": [
        "best_model.add(Dense(356,activation=\"relu\"))"
      ],
      "execution_count": 87,
      "outputs": []
    },
    {
      "cell_type": "code",
      "metadata": {
        "id": "YNXQ8Tr5Dmn3"
      },
      "source": [
        "best_model.add(Dense(1,activation=\"sigmoid\"))"
      ],
      "execution_count": 88,
      "outputs": []
    },
    {
      "cell_type": "code",
      "metadata": {
        "id": "MfgsOlzHFcJ5"
      },
      "source": [
        "opt = keras.optimizers.Adam(learning_rate=0.01)"
      ],
      "execution_count": 89,
      "outputs": []
    },
    {
      "cell_type": "code",
      "metadata": {
        "id": "deDVX62aD4DC"
      },
      "source": [
        "best_model.compile(optimizer=opt,loss =\"binary_crossentropy\",metrics=\"binary_accuracy\")"
      ],
      "execution_count": 90,
      "outputs": []
    },
    {
      "cell_type": "code",
      "metadata": {
        "colab": {
          "base_uri": "https://localhost:8080/"
        },
        "id": "gxoUwaIHEZO4",
        "outputId": "d36fe741-35bc-4388-bc3d-269e018cf567"
      },
      "source": [
        "best_model.summary()"
      ],
      "execution_count": 91,
      "outputs": [
        {
          "output_type": "stream",
          "text": [
            "Model: \"sequential_5\"\n",
            "_________________________________________________________________\n",
            "Layer (type)                 Output Shape              Param #   \n",
            "=================================================================\n",
            "dense_18 (Dense)             (None, 372)               5208      \n",
            "_________________________________________________________________\n",
            "dense_19 (Dense)             (None, 356)               132788    \n",
            "_________________________________________________________________\n",
            "dense_20 (Dense)             (None, 1)                 357       \n",
            "=================================================================\n",
            "Total params: 138,353\n",
            "Trainable params: 138,353\n",
            "Non-trainable params: 0\n",
            "_________________________________________________________________\n"
          ],
          "name": "stdout"
        }
      ]
    },
    {
      "cell_type": "code",
      "metadata": {
        "colab": {
          "base_uri": "https://localhost:8080/"
        },
        "id": "mBoMPzALEyBC",
        "outputId": "61447113-b786-4e43-fa63-1dcaa8e7b4e9"
      },
      "source": [
        "model_history = best_model.fit(x_train,y_train,validation_split=0.2,batch_size=64,epochs=100,workers = -1)"
      ],
      "execution_count": 92,
      "outputs": [
        {
          "output_type": "stream",
          "text": [
            "Epoch 1/100\n",
            "4/4 [==============================] - 1s 76ms/step - loss: 0.5707 - binary_accuracy: 0.6309 - val_loss: 0.6503 - val_binary_accuracy: 0.8077\n",
            "Epoch 2/100\n",
            "4/4 [==============================] - 0s 21ms/step - loss: 0.3288 - binary_accuracy: 0.8619 - val_loss: 0.5351 - val_binary_accuracy: 0.8269\n",
            "Epoch 3/100\n",
            "4/4 [==============================] - 0s 22ms/step - loss: 0.2907 - binary_accuracy: 0.8786 - val_loss: 0.5657 - val_binary_accuracy: 0.7885\n",
            "Epoch 4/100\n",
            "4/4 [==============================] - 0s 25ms/step - loss: 0.2758 - binary_accuracy: 0.8710 - val_loss: 0.5416 - val_binary_accuracy: 0.8269\n",
            "Epoch 5/100\n",
            "4/4 [==============================] - 0s 22ms/step - loss: 0.2002 - binary_accuracy: 0.9153 - val_loss: 0.5556 - val_binary_accuracy: 0.8269\n",
            "Epoch 6/100\n",
            "4/4 [==============================] - 0s 22ms/step - loss: 0.2037 - binary_accuracy: 0.9145 - val_loss: 0.5749 - val_binary_accuracy: 0.8462\n",
            "Epoch 7/100\n",
            "4/4 [==============================] - 0s 23ms/step - loss: 0.1512 - binary_accuracy: 0.9358 - val_loss: 0.6649 - val_binary_accuracy: 0.8462\n",
            "Epoch 8/100\n",
            "4/4 [==============================] - 0s 22ms/step - loss: 0.1217 - binary_accuracy: 0.9512 - val_loss: 0.5578 - val_binary_accuracy: 0.8077\n",
            "Epoch 9/100\n",
            "4/4 [==============================] - 0s 19ms/step - loss: 0.0880 - binary_accuracy: 0.9591 - val_loss: 0.6212 - val_binary_accuracy: 0.8269\n",
            "Epoch 10/100\n",
            "4/4 [==============================] - 0s 19ms/step - loss: 0.0624 - binary_accuracy: 0.9850 - val_loss: 0.7770 - val_binary_accuracy: 0.8269\n",
            "Epoch 11/100\n",
            "4/4 [==============================] - 0s 20ms/step - loss: 0.0590 - binary_accuracy: 0.9771 - val_loss: 0.8273 - val_binary_accuracy: 0.7885\n",
            "Epoch 12/100\n",
            "4/4 [==============================] - 0s 19ms/step - loss: 0.0521 - binary_accuracy: 0.9893 - val_loss: 0.7458 - val_binary_accuracy: 0.8269\n",
            "Epoch 13/100\n",
            "4/4 [==============================] - 0s 19ms/step - loss: 0.0246 - binary_accuracy: 1.0000 - val_loss: 0.7766 - val_binary_accuracy: 0.8077\n",
            "Epoch 14/100\n",
            "4/4 [==============================] - 0s 21ms/step - loss: 0.0136 - binary_accuracy: 1.0000 - val_loss: 0.9175 - val_binary_accuracy: 0.7692\n",
            "Epoch 15/100\n",
            "4/4 [==============================] - 0s 20ms/step - loss: 0.0174 - binary_accuracy: 1.0000 - val_loss: 1.0657 - val_binary_accuracy: 0.8077\n",
            "Epoch 16/100\n",
            "4/4 [==============================] - 0s 22ms/step - loss: 0.0086 - binary_accuracy: 1.0000 - val_loss: 1.6262 - val_binary_accuracy: 0.8077\n",
            "Epoch 17/100\n",
            "4/4 [==============================] - 0s 19ms/step - loss: 0.0334 - binary_accuracy: 0.9893 - val_loss: 1.2726 - val_binary_accuracy: 0.8077\n",
            "Epoch 18/100\n",
            "4/4 [==============================] - 0s 18ms/step - loss: 0.0259 - binary_accuracy: 0.9835 - val_loss: 0.9596 - val_binary_accuracy: 0.8077\n",
            "Epoch 19/100\n",
            "4/4 [==============================] - 0s 22ms/step - loss: 0.0431 - binary_accuracy: 0.9848 - val_loss: 1.5812 - val_binary_accuracy: 0.7885\n",
            "Epoch 20/100\n",
            "4/4 [==============================] - 0s 21ms/step - loss: 0.0412 - binary_accuracy: 0.9797 - val_loss: 1.7662 - val_binary_accuracy: 0.7885\n",
            "Epoch 21/100\n",
            "4/4 [==============================] - 0s 22ms/step - loss: 0.0283 - binary_accuracy: 0.9940 - val_loss: 1.2418 - val_binary_accuracy: 0.8269\n",
            "Epoch 22/100\n",
            "4/4 [==============================] - 0s 20ms/step - loss: 0.1403 - binary_accuracy: 0.9572 - val_loss: 1.4335 - val_binary_accuracy: 0.7308\n",
            "Epoch 23/100\n",
            "4/4 [==============================] - 0s 21ms/step - loss: 0.0405 - binary_accuracy: 0.9879 - val_loss: 1.4135 - val_binary_accuracy: 0.7885\n",
            "Epoch 24/100\n",
            "4/4 [==============================] - 0s 20ms/step - loss: 0.0678 - binary_accuracy: 0.9753 - val_loss: 1.4744 - val_binary_accuracy: 0.8077\n",
            "Epoch 25/100\n",
            "4/4 [==============================] - 0s 23ms/step - loss: 0.1177 - binary_accuracy: 0.9634 - val_loss: 1.1795 - val_binary_accuracy: 0.7500\n",
            "Epoch 26/100\n",
            "4/4 [==============================] - 0s 19ms/step - loss: 0.0652 - binary_accuracy: 0.9833 - val_loss: 1.0753 - val_binary_accuracy: 0.7692\n",
            "Epoch 27/100\n",
            "4/4 [==============================] - 0s 23ms/step - loss: 0.0093 - binary_accuracy: 1.0000 - val_loss: 1.0417 - val_binary_accuracy: 0.7885\n",
            "Epoch 28/100\n",
            "4/4 [==============================] - 0s 23ms/step - loss: 0.0218 - binary_accuracy: 0.9940 - val_loss: 1.1327 - val_binary_accuracy: 0.8077\n",
            "Epoch 29/100\n",
            "4/4 [==============================] - 0s 22ms/step - loss: 0.0114 - binary_accuracy: 0.9970 - val_loss: 1.2463 - val_binary_accuracy: 0.8077\n",
            "Epoch 30/100\n",
            "4/4 [==============================] - 0s 21ms/step - loss: 0.0037 - binary_accuracy: 1.0000 - val_loss: 1.3171 - val_binary_accuracy: 0.8077\n",
            "Epoch 31/100\n",
            "4/4 [==============================] - 0s 23ms/step - loss: 0.0036 - binary_accuracy: 1.0000 - val_loss: 1.3457 - val_binary_accuracy: 0.8269\n",
            "Epoch 32/100\n",
            "4/4 [==============================] - 0s 20ms/step - loss: 0.0022 - binary_accuracy: 1.0000 - val_loss: 1.3613 - val_binary_accuracy: 0.8269\n",
            "Epoch 33/100\n",
            "4/4 [==============================] - 0s 21ms/step - loss: 0.0023 - binary_accuracy: 1.0000 - val_loss: 1.3680 - val_binary_accuracy: 0.8077\n",
            "Epoch 34/100\n",
            "4/4 [==============================] - 0s 21ms/step - loss: 0.0017 - binary_accuracy: 1.0000 - val_loss: 1.3718 - val_binary_accuracy: 0.8077\n",
            "Epoch 35/100\n",
            "4/4 [==============================] - 0s 23ms/step - loss: 0.0012 - binary_accuracy: 1.0000 - val_loss: 1.3716 - val_binary_accuracy: 0.8077\n",
            "Epoch 36/100\n",
            "4/4 [==============================] - 0s 21ms/step - loss: 9.3758e-04 - binary_accuracy: 1.0000 - val_loss: 1.3732 - val_binary_accuracy: 0.8077\n",
            "Epoch 37/100\n",
            "4/4 [==============================] - 0s 23ms/step - loss: 8.7502e-04 - binary_accuracy: 1.0000 - val_loss: 1.3780 - val_binary_accuracy: 0.8077\n",
            "Epoch 38/100\n",
            "4/4 [==============================] - 0s 22ms/step - loss: 6.1098e-04 - binary_accuracy: 1.0000 - val_loss: 1.3861 - val_binary_accuracy: 0.8077\n",
            "Epoch 39/100\n",
            "4/4 [==============================] - 0s 20ms/step - loss: 5.2600e-04 - binary_accuracy: 1.0000 - val_loss: 1.3950 - val_binary_accuracy: 0.7885\n",
            "Epoch 40/100\n",
            "4/4 [==============================] - 0s 21ms/step - loss: 5.7825e-04 - binary_accuracy: 1.0000 - val_loss: 1.4047 - val_binary_accuracy: 0.7885\n",
            "Epoch 41/100\n",
            "4/4 [==============================] - 0s 20ms/step - loss: 5.1641e-04 - binary_accuracy: 1.0000 - val_loss: 1.4136 - val_binary_accuracy: 0.7885\n",
            "Epoch 42/100\n",
            "4/4 [==============================] - 0s 19ms/step - loss: 3.6102e-04 - binary_accuracy: 1.0000 - val_loss: 1.4234 - val_binary_accuracy: 0.7885\n",
            "Epoch 43/100\n",
            "4/4 [==============================] - 0s 25ms/step - loss: 3.9155e-04 - binary_accuracy: 1.0000 - val_loss: 1.4348 - val_binary_accuracy: 0.8077\n",
            "Epoch 44/100\n",
            "4/4 [==============================] - 0s 21ms/step - loss: 3.1277e-04 - binary_accuracy: 1.0000 - val_loss: 1.4452 - val_binary_accuracy: 0.8077\n",
            "Epoch 45/100\n",
            "4/4 [==============================] - 0s 21ms/step - loss: 2.8674e-04 - binary_accuracy: 1.0000 - val_loss: 1.4543 - val_binary_accuracy: 0.8077\n",
            "Epoch 46/100\n",
            "4/4 [==============================] - 0s 21ms/step - loss: 2.4873e-04 - binary_accuracy: 1.0000 - val_loss: 1.4634 - val_binary_accuracy: 0.8077\n",
            "Epoch 47/100\n",
            "4/4 [==============================] - 0s 22ms/step - loss: 2.7896e-04 - binary_accuracy: 1.0000 - val_loss: 1.4710 - val_binary_accuracy: 0.8077\n",
            "Epoch 48/100\n",
            "4/4 [==============================] - 0s 26ms/step - loss: 2.4324e-04 - binary_accuracy: 1.0000 - val_loss: 1.4782 - val_binary_accuracy: 0.8077\n",
            "Epoch 49/100\n",
            "4/4 [==============================] - 0s 21ms/step - loss: 2.2848e-04 - binary_accuracy: 1.0000 - val_loss: 1.4856 - val_binary_accuracy: 0.8077\n",
            "Epoch 50/100\n",
            "4/4 [==============================] - 0s 23ms/step - loss: 2.2367e-04 - binary_accuracy: 1.0000 - val_loss: 1.4920 - val_binary_accuracy: 0.8077\n",
            "Epoch 51/100\n",
            "4/4 [==============================] - 0s 23ms/step - loss: 2.3481e-04 - binary_accuracy: 1.0000 - val_loss: 1.4978 - val_binary_accuracy: 0.8077\n",
            "Epoch 52/100\n",
            "4/4 [==============================] - 0s 21ms/step - loss: 2.2822e-04 - binary_accuracy: 1.0000 - val_loss: 1.5032 - val_binary_accuracy: 0.8077\n",
            "Epoch 53/100\n",
            "4/4 [==============================] - 0s 21ms/step - loss: 1.9023e-04 - binary_accuracy: 1.0000 - val_loss: 1.5083 - val_binary_accuracy: 0.8077\n",
            "Epoch 54/100\n",
            "4/4 [==============================] - 0s 22ms/step - loss: 2.1970e-04 - binary_accuracy: 1.0000 - val_loss: 1.5127 - val_binary_accuracy: 0.8077\n",
            "Epoch 55/100\n",
            "4/4 [==============================] - 0s 22ms/step - loss: 1.8269e-04 - binary_accuracy: 1.0000 - val_loss: 1.5161 - val_binary_accuracy: 0.8077\n",
            "Epoch 56/100\n",
            "4/4 [==============================] - 0s 22ms/step - loss: 1.6721e-04 - binary_accuracy: 1.0000 - val_loss: 1.5199 - val_binary_accuracy: 0.8077\n",
            "Epoch 57/100\n",
            "4/4 [==============================] - 0s 25ms/step - loss: 1.5973e-04 - binary_accuracy: 1.0000 - val_loss: 1.5247 - val_binary_accuracy: 0.8077\n",
            "Epoch 58/100\n",
            "4/4 [==============================] - 0s 25ms/step - loss: 1.4755e-04 - binary_accuracy: 1.0000 - val_loss: 1.5292 - val_binary_accuracy: 0.8077\n",
            "Epoch 59/100\n",
            "4/4 [==============================] - 0s 22ms/step - loss: 1.7017e-04 - binary_accuracy: 1.0000 - val_loss: 1.5345 - val_binary_accuracy: 0.8077\n",
            "Epoch 60/100\n",
            "4/4 [==============================] - 0s 25ms/step - loss: 1.5240e-04 - binary_accuracy: 1.0000 - val_loss: 1.5394 - val_binary_accuracy: 0.8077\n",
            "Epoch 61/100\n",
            "4/4 [==============================] - 0s 22ms/step - loss: 1.4442e-04 - binary_accuracy: 1.0000 - val_loss: 1.5445 - val_binary_accuracy: 0.8077\n",
            "Epoch 62/100\n",
            "4/4 [==============================] - 0s 23ms/step - loss: 1.3690e-04 - binary_accuracy: 1.0000 - val_loss: 1.5494 - val_binary_accuracy: 0.8077\n",
            "Epoch 63/100\n",
            "4/4 [==============================] - 0s 21ms/step - loss: 1.4608e-04 - binary_accuracy: 1.0000 - val_loss: 1.5541 - val_binary_accuracy: 0.8077\n",
            "Epoch 64/100\n",
            "4/4 [==============================] - 0s 27ms/step - loss: 1.2261e-04 - binary_accuracy: 1.0000 - val_loss: 1.5587 - val_binary_accuracy: 0.8077\n",
            "Epoch 65/100\n",
            "4/4 [==============================] - 0s 26ms/step - loss: 1.4175e-04 - binary_accuracy: 1.0000 - val_loss: 1.5632 - val_binary_accuracy: 0.8077\n",
            "Epoch 66/100\n",
            "4/4 [==============================] - 0s 21ms/step - loss: 1.0769e-04 - binary_accuracy: 1.0000 - val_loss: 1.5673 - val_binary_accuracy: 0.8077\n",
            "Epoch 67/100\n",
            "4/4 [==============================] - 0s 22ms/step - loss: 1.3049e-04 - binary_accuracy: 1.0000 - val_loss: 1.5717 - val_binary_accuracy: 0.8077\n",
            "Epoch 68/100\n",
            "4/4 [==============================] - 0s 20ms/step - loss: 9.2755e-05 - binary_accuracy: 1.0000 - val_loss: 1.5755 - val_binary_accuracy: 0.8077\n",
            "Epoch 69/100\n",
            "4/4 [==============================] - 0s 22ms/step - loss: 1.0790e-04 - binary_accuracy: 1.0000 - val_loss: 1.5789 - val_binary_accuracy: 0.8077\n",
            "Epoch 70/100\n",
            "4/4 [==============================] - 0s 22ms/step - loss: 9.9900e-05 - binary_accuracy: 1.0000 - val_loss: 1.5830 - val_binary_accuracy: 0.8077\n",
            "Epoch 71/100\n",
            "4/4 [==============================] - 0s 24ms/step - loss: 9.3527e-05 - binary_accuracy: 1.0000 - val_loss: 1.5864 - val_binary_accuracy: 0.8077\n",
            "Epoch 72/100\n",
            "4/4 [==============================] - 0s 26ms/step - loss: 1.1556e-04 - binary_accuracy: 1.0000 - val_loss: 1.5894 - val_binary_accuracy: 0.8077\n",
            "Epoch 73/100\n",
            "4/4 [==============================] - 0s 24ms/step - loss: 1.0381e-04 - binary_accuracy: 1.0000 - val_loss: 1.5925 - val_binary_accuracy: 0.8077\n",
            "Epoch 74/100\n",
            "4/4 [==============================] - 0s 20ms/step - loss: 9.1760e-05 - binary_accuracy: 1.0000 - val_loss: 1.5958 - val_binary_accuracy: 0.8077\n",
            "Epoch 75/100\n",
            "4/4 [==============================] - 0s 21ms/step - loss: 9.6845e-05 - binary_accuracy: 1.0000 - val_loss: 1.5996 - val_binary_accuracy: 0.8077\n",
            "Epoch 76/100\n",
            "4/4 [==============================] - 0s 23ms/step - loss: 9.7252e-05 - binary_accuracy: 1.0000 - val_loss: 1.6030 - val_binary_accuracy: 0.8077\n",
            "Epoch 77/100\n",
            "4/4 [==============================] - 0s 21ms/step - loss: 8.6642e-05 - binary_accuracy: 1.0000 - val_loss: 1.6058 - val_binary_accuracy: 0.8077\n",
            "Epoch 78/100\n",
            "4/4 [==============================] - 0s 22ms/step - loss: 7.3297e-05 - binary_accuracy: 1.0000 - val_loss: 1.6093 - val_binary_accuracy: 0.8077\n",
            "Epoch 79/100\n",
            "4/4 [==============================] - 0s 22ms/step - loss: 9.5166e-05 - binary_accuracy: 1.0000 - val_loss: 1.6132 - val_binary_accuracy: 0.8077\n",
            "Epoch 80/100\n",
            "4/4 [==============================] - 0s 24ms/step - loss: 8.8211e-05 - binary_accuracy: 1.0000 - val_loss: 1.6166 - val_binary_accuracy: 0.8077\n",
            "Epoch 81/100\n",
            "4/4 [==============================] - 0s 21ms/step - loss: 9.0318e-05 - binary_accuracy: 1.0000 - val_loss: 1.6203 - val_binary_accuracy: 0.8077\n",
            "Epoch 82/100\n",
            "4/4 [==============================] - 0s 24ms/step - loss: 6.9263e-05 - binary_accuracy: 1.0000 - val_loss: 1.6238 - val_binary_accuracy: 0.8077\n",
            "Epoch 83/100\n",
            "4/4 [==============================] - 0s 23ms/step - loss: 7.3681e-05 - binary_accuracy: 1.0000 - val_loss: 1.6276 - val_binary_accuracy: 0.8077\n",
            "Epoch 84/100\n",
            "4/4 [==============================] - 0s 19ms/step - loss: 8.2182e-05 - binary_accuracy: 1.0000 - val_loss: 1.6309 - val_binary_accuracy: 0.8077\n",
            "Epoch 85/100\n",
            "4/4 [==============================] - 0s 23ms/step - loss: 7.3621e-05 - binary_accuracy: 1.0000 - val_loss: 1.6337 - val_binary_accuracy: 0.8077\n",
            "Epoch 86/100\n",
            "4/4 [==============================] - 0s 20ms/step - loss: 8.9494e-05 - binary_accuracy: 1.0000 - val_loss: 1.6362 - val_binary_accuracy: 0.8077\n",
            "Epoch 87/100\n",
            "4/4 [==============================] - 0s 20ms/step - loss: 6.7172e-05 - binary_accuracy: 1.0000 - val_loss: 1.6383 - val_binary_accuracy: 0.8077\n",
            "Epoch 88/100\n",
            "4/4 [==============================] - 0s 26ms/step - loss: 7.7020e-05 - binary_accuracy: 1.0000 - val_loss: 1.6404 - val_binary_accuracy: 0.8077\n",
            "Epoch 89/100\n",
            "4/4 [==============================] - 0s 25ms/step - loss: 5.9957e-05 - binary_accuracy: 1.0000 - val_loss: 1.6427 - val_binary_accuracy: 0.8077\n",
            "Epoch 90/100\n",
            "4/4 [==============================] - 0s 22ms/step - loss: 6.3297e-05 - binary_accuracy: 1.0000 - val_loss: 1.6450 - val_binary_accuracy: 0.8077\n",
            "Epoch 91/100\n",
            "4/4 [==============================] - 0s 22ms/step - loss: 7.8608e-05 - binary_accuracy: 1.0000 - val_loss: 1.6471 - val_binary_accuracy: 0.8077\n",
            "Epoch 92/100\n",
            "4/4 [==============================] - 0s 23ms/step - loss: 5.8297e-05 - binary_accuracy: 1.0000 - val_loss: 1.6493 - val_binary_accuracy: 0.8077\n",
            "Epoch 93/100\n",
            "4/4 [==============================] - 0s 21ms/step - loss: 5.9622e-05 - binary_accuracy: 1.0000 - val_loss: 1.6521 - val_binary_accuracy: 0.8077\n",
            "Epoch 94/100\n",
            "4/4 [==============================] - 0s 21ms/step - loss: 7.2412e-05 - binary_accuracy: 1.0000 - val_loss: 1.6548 - val_binary_accuracy: 0.8077\n",
            "Epoch 95/100\n",
            "4/4 [==============================] - 0s 21ms/step - loss: 6.2651e-05 - binary_accuracy: 1.0000 - val_loss: 1.6569 - val_binary_accuracy: 0.8077\n",
            "Epoch 96/100\n",
            "4/4 [==============================] - 0s 20ms/step - loss: 5.7227e-05 - binary_accuracy: 1.0000 - val_loss: 1.6585 - val_binary_accuracy: 0.8077\n",
            "Epoch 97/100\n",
            "4/4 [==============================] - 0s 20ms/step - loss: 6.2630e-05 - binary_accuracy: 1.0000 - val_loss: 1.6605 - val_binary_accuracy: 0.8077\n",
            "Epoch 98/100\n",
            "4/4 [==============================] - 0s 18ms/step - loss: 6.1765e-05 - binary_accuracy: 1.0000 - val_loss: 1.6625 - val_binary_accuracy: 0.8077\n",
            "Epoch 99/100\n",
            "4/4 [==============================] - 0s 19ms/step - loss: 6.4729e-05 - binary_accuracy: 1.0000 - val_loss: 1.6643 - val_binary_accuracy: 0.8077\n",
            "Epoch 100/100\n",
            "4/4 [==============================] - 0s 25ms/step - loss: 5.7467e-05 - binary_accuracy: 1.0000 - val_loss: 1.6661 - val_binary_accuracy: 0.8077\n"
          ],
          "name": "stdout"
        }
      ]
    },
    {
      "cell_type": "code",
      "metadata": {
        "id": "k8eC4oUAFlry"
      },
      "source": [
        "y_pred = best_model.predict(x_test)"
      ],
      "execution_count": 93,
      "outputs": []
    },
    {
      "cell_type": "code",
      "metadata": {
        "id": "3rGtdlMeFuT9"
      },
      "source": [
        "y_pred = y_pred>0.5"
      ],
      "execution_count": 94,
      "outputs": []
    },
    {
      "cell_type": "code",
      "metadata": {
        "id": "vN_k76YVF3A9"
      },
      "source": [
        "from sklearn.metrics import confusion_matrix"
      ],
      "execution_count": 95,
      "outputs": []
    },
    {
      "cell_type": "code",
      "metadata": {
        "colab": {
          "base_uri": "https://localhost:8080/"
        },
        "id": "vrU6xkaEF5Ik",
        "outputId": "72e9fa6f-e3fd-475f-f351-97d58996f3e0"
      },
      "source": [
        "print(confusion_matrix(y_test,y_pred))"
      ],
      "execution_count": 96,
      "outputs": [
        {
          "output_type": "stream",
          "text": [
            "[[16  5]\n",
            " [ 5 20]]\n"
          ],
          "name": "stdout"
        }
      ]
    },
    {
      "cell_type": "code",
      "metadata": {
        "id": "7wY1L29hF62g"
      },
      "source": [
        "from sklearn.metrics import accuracy_score\n"
      ],
      "execution_count": 97,
      "outputs": []
    },
    {
      "cell_type": "code",
      "metadata": {
        "id": "1KxVoXg6F9Bv"
      },
      "source": [
        "score = accuracy_score(y_test,y_pred)"
      ],
      "execution_count": 98,
      "outputs": []
    },
    {
      "cell_type": "code",
      "metadata": {
        "colab": {
          "base_uri": "https://localhost:8080/"
        },
        "id": "Rh-BWjxrF-oU",
        "outputId": "f5a238ce-21f7-4ddd-93fc-1b8e4bab24f8"
      },
      "source": [
        "print(score)"
      ],
      "execution_count": 99,
      "outputs": [
        {
          "output_type": "stream",
          "text": [
            "0.782608695652174\n"
          ],
          "name": "stdout"
        }
      ]
    },
    {
      "cell_type": "code",
      "metadata": {
        "id": "Kd1He8qiF_UM"
      },
      "source": [
        ""
      ],
      "execution_count": 99,
      "outputs": []
    }
  ]
}