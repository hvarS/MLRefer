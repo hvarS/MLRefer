{
  "nbformat": 4,
  "nbformat_minor": 0,
  "metadata": {
    "colab": {
      "name": "CNNwithHyperparameterOptimisation.ipynb",
      "provenance": []
    },
    "kernelspec": {
      "name": "python3",
      "display_name": "Python 3"
    },
    "language_info": {
      "name": "python"
    },
    "accelerator": "GPU"
  },
  "cells": [
    {
      "cell_type": "code",
      "metadata": {
        "colab": {
          "base_uri": "https://localhost:8080/"
        },
        "id": "yEgswLzSJ8LW",
        "outputId": "23bae99f-080f-4994-9b63-31345b8f093d"
      },
      "source": [
        "!pip install keras-tuner"
      ],
      "execution_count": 1,
      "outputs": [
        {
          "output_type": "stream",
          "text": [
            "Requirement already satisfied: keras-tuner in /usr/local/lib/python3.7/dist-packages (1.0.2)\n",
            "Requirement already satisfied: tabulate in /usr/local/lib/python3.7/dist-packages (from keras-tuner) (0.8.9)\n",
            "Requirement already satisfied: packaging in /usr/local/lib/python3.7/dist-packages (from keras-tuner) (20.9)\n",
            "Requirement already satisfied: terminaltables in /usr/local/lib/python3.7/dist-packages (from keras-tuner) (3.1.0)\n",
            "Requirement already satisfied: scikit-learn in /usr/local/lib/python3.7/dist-packages (from keras-tuner) (0.22.2.post1)\n",
            "Requirement already satisfied: tqdm in /usr/local/lib/python3.7/dist-packages (from keras-tuner) (4.41.1)\n",
            "Requirement already satisfied: colorama in /usr/local/lib/python3.7/dist-packages (from keras-tuner) (0.4.4)\n",
            "Requirement already satisfied: future in /usr/local/lib/python3.7/dist-packages (from keras-tuner) (0.16.0)\n",
            "Requirement already satisfied: requests in /usr/local/lib/python3.7/dist-packages (from keras-tuner) (2.23.0)\n",
            "Requirement already satisfied: numpy in /usr/local/lib/python3.7/dist-packages (from keras-tuner) (1.19.5)\n",
            "Requirement already satisfied: scipy in /usr/local/lib/python3.7/dist-packages (from keras-tuner) (1.4.1)\n",
            "Requirement already satisfied: pyparsing>=2.0.2 in /usr/local/lib/python3.7/dist-packages (from packaging->keras-tuner) (2.4.7)\n",
            "Requirement already satisfied: joblib>=0.11 in /usr/local/lib/python3.7/dist-packages (from scikit-learn->keras-tuner) (1.0.1)\n",
            "Requirement already satisfied: chardet<4,>=3.0.2 in /usr/local/lib/python3.7/dist-packages (from requests->keras-tuner) (3.0.4)\n",
            "Requirement already satisfied: urllib3!=1.25.0,!=1.25.1,<1.26,>=1.21.1 in /usr/local/lib/python3.7/dist-packages (from requests->keras-tuner) (1.24.3)\n",
            "Requirement already satisfied: certifi>=2017.4.17 in /usr/local/lib/python3.7/dist-packages (from requests->keras-tuner) (2020.12.5)\n",
            "Requirement already satisfied: idna<3,>=2.5 in /usr/local/lib/python3.7/dist-packages (from requests->keras-tuner) (2.10)\n"
          ],
          "name": "stdout"
        }
      ]
    },
    {
      "cell_type": "code",
      "metadata": {
        "id": "bfoZEZBtKMfn"
      },
      "source": [
        "import tensorflow as tf\n",
        "from tensorflow import keras\n",
        "import numpy as np\n",
        "import pandas as pd"
      ],
      "execution_count": 2,
      "outputs": []
    },
    {
      "cell_type": "code",
      "metadata": {
        "colab": {
          "base_uri": "https://localhost:8080/"
        },
        "id": "M6QAfEoiYOis",
        "outputId": "ee868daa-074b-4b12-891e-da96208cf4ce"
      },
      "source": [
        "%tensorflow_version 2.x\n",
        "import tensorflow as tf\n",
        "device_name = tf.test.gpu_device_name()\n",
        "if device_name != '/device:GPU:0':\n",
        "  raise SystemError('GPU device not found')\n",
        "print('Found GPU at: {}'.format(device_name))"
      ],
      "execution_count": 3,
      "outputs": [
        {
          "output_type": "stream",
          "text": [
            "Found GPU at: /device:GPU:0\n"
          ],
          "name": "stdout"
        }
      ]
    },
    {
      "cell_type": "code",
      "metadata": {
        "colab": {
          "base_uri": "https://localhost:8080/"
        },
        "id": "vDpE9-tZK48m",
        "outputId": "633a10a2-b547-4d0e-d1c8-019bf0b9107f"
      },
      "source": [
        "from google.colab import drive\n",
        "drive.mount('/content/gdrive')\n",
        "\n",
        "\n",
        "def setup_dataset(text):\n",
        "  import shutil\n",
        "  import os\n",
        "  %cd /content/gdrive/My Drive/Kaggle/\n",
        "  strings = text.split(' ')[-1]\n",
        "  folder = strings.split('/')[1]\n",
        "  os.environ['KAGGLE_CONFIG_DIR'] = \"/content/gdrive/My Drive/Kaggle/\"+folder\n",
        "  print(strings)\n",
        "  print(folder)\n",
        "  !mkdir $folder\n",
        "  shutil.copy2(\"kaggle.json\",\"./\"+folder+\"/kaggle.json\")\n",
        "  %cd $folder\n",
        "  !kaggle datasets download -d $strings\n",
        "  \n",
        "setup_dataset(\"kaggle datasets download -d nipunarora8/age-gender-and-ethnicity-face-data-csv\")"
      ],
      "execution_count": 4,
      "outputs": [
        {
          "output_type": "stream",
          "text": [
            "Drive already mounted at /content/gdrive; to attempt to forcibly remount, call drive.mount(\"/content/gdrive\", force_remount=True).\n",
            "/content/gdrive/My Drive/Kaggle\n",
            "nipunarora8/age-gender-and-ethnicity-face-data-csv\n",
            "age-gender-and-ethnicity-face-data-csv\n",
            "mkdir: cannot create directory ‘age-gender-and-ethnicity-face-data-csv’: File exists\n",
            "/content/gdrive/My Drive/Kaggle/age-gender-and-ethnicity-face-data-csv\n",
            "age-gender-and-ethnicity-face-data-csv.zip: Skipping, found more recently modified local copy (use --force to force download)\n"
          ],
          "name": "stdout"
        }
      ]
    },
    {
      "cell_type": "code",
      "metadata": {
        "colab": {
          "base_uri": "https://localhost:8080/"
        },
        "id": "oFHBVj3GK8Zw",
        "outputId": "0046b5b4-dfa9-4f96-a356-74b7cf793b95"
      },
      "source": [
        "!unzip age-gender-and-ethnicity-face-data-csv.zip"
      ],
      "execution_count": 8,
      "outputs": [
        {
          "output_type": "stream",
          "text": [
            "Archive:  age-gender-and-ethnicity-face-data-csv.zip\n",
            "replace age_gender.csv? [y]es, [n]o, [A]ll, [N]one, [r]ename: N\n"
          ],
          "name": "stdout"
        }
      ]
    },
    {
      "cell_type": "code",
      "metadata": {
        "id": "6ymofpGOLJ8K"
      },
      "source": [
        "df = pd.read_csv(\"age_gender.csv\")"
      ],
      "execution_count": 7,
      "outputs": []
    },
    {
      "cell_type": "code",
      "metadata": {
        "colab": {
          "base_uri": "https://localhost:8080/"
        },
        "id": "leiyQaZmOD1c",
        "outputId": "941b96c4-4838-4e0a-dee0-1e4c0a3ac54c"
      },
      "source": [
        "df.age.value_counts()"
      ],
      "execution_count": 9,
      "outputs": [
        {
          "output_type": "execute_result",
          "data": {
            "text/plain": [
              "26     2197\n",
              "1      1123\n",
              "28      918\n",
              "35      880\n",
              "24      859\n",
              "       ... \n",
              "115       3\n",
              "101       2\n",
              "91        2\n",
              "103       1\n",
              "111       1\n",
              "Name: age, Length: 104, dtype: int64"
            ]
          },
          "metadata": {
            "tags": []
          },
          "execution_count": 9
        }
      ]
    },
    {
      "cell_type": "code",
      "metadata": {
        "id": "RheteOUvLRc9"
      },
      "source": [
        "x = np.array(df[\"pixels\"])"
      ],
      "execution_count": 10,
      "outputs": []
    },
    {
      "cell_type": "code",
      "metadata": {
        "id": "On_30TdiLTjZ"
      },
      "source": [
        "x = [item.split(' ') for item in x]"
      ],
      "execution_count": 11,
      "outputs": []
    },
    {
      "cell_type": "code",
      "metadata": {
        "id": "J6Zn2Du4Lcoq"
      },
      "source": [
        "x = [np.array(item).astype(int) for item in x]"
      ],
      "execution_count": 12,
      "outputs": []
    },
    {
      "cell_type": "code",
      "metadata": {
        "colab": {
          "base_uri": "https://localhost:8080/"
        },
        "id": "lmWosyFwMNL0",
        "outputId": "754e0197-28c5-44ae-9a4c-ca3d09d45224"
      },
      "source": [
        "np.sqrt(len(x[0]))"
      ],
      "execution_count": 13,
      "outputs": [
        {
          "output_type": "execute_result",
          "data": {
            "text/plain": [
              "48.0"
            ]
          },
          "metadata": {
            "tags": []
          },
          "execution_count": 13
        }
      ]
    },
    {
      "cell_type": "markdown",
      "metadata": {
        "id": "NIR0wDCnNNFm"
      },
      "source": [
        "The images are of size 48*48 pixels"
      ]
    },
    {
      "cell_type": "code",
      "metadata": {
        "id": "8VLbWnQ-MxUj"
      },
      "source": [
        "x = np.array(x)"
      ],
      "execution_count": 14,
      "outputs": []
    },
    {
      "cell_type": "code",
      "metadata": {
        "colab": {
          "base_uri": "https://localhost:8080/"
        },
        "id": "2L6O5BfrNwOr",
        "outputId": "deae58e9-473f-4244-a48e-fb273f3d7523"
      },
      "source": [
        "x.shape"
      ],
      "execution_count": 15,
      "outputs": [
        {
          "output_type": "execute_result",
          "data": {
            "text/plain": [
              "(23705, 2304)"
            ]
          },
          "metadata": {
            "tags": []
          },
          "execution_count": 15
        }
      ]
    },
    {
      "cell_type": "code",
      "metadata": {
        "id": "iOgR6XNINxrz"
      },
      "source": [
        "x = np.reshape(x,(x.shape[0],48,48,1))"
      ],
      "execution_count": 16,
      "outputs": []
    },
    {
      "cell_type": "code",
      "metadata": {
        "colab": {
          "base_uri": "https://localhost:8080/"
        },
        "id": "ohaWXKYrN7BQ",
        "outputId": "8b71021d-510f-43a7-c019-6c7567ad55c0"
      },
      "source": [
        "x.shape"
      ],
      "execution_count": 17,
      "outputs": [
        {
          "output_type": "execute_result",
          "data": {
            "text/plain": [
              "(23705, 48, 48, 1)"
            ]
          },
          "metadata": {
            "tags": []
          },
          "execution_count": 17
        }
      ]
    },
    {
      "cell_type": "code",
      "metadata": {
        "id": "G4r39TzkN8uN"
      },
      "source": [
        "y = np.array(df[\"age\"]).astype(int)"
      ],
      "execution_count": 18,
      "outputs": []
    },
    {
      "cell_type": "markdown",
      "metadata": {
        "id": "nUlftoBnOfgs"
      },
      "source": [
        "##Train - Test Split"
      ]
    },
    {
      "cell_type": "code",
      "metadata": {
        "id": "M7dJnGYcOilb"
      },
      "source": [
        "from sklearn.model_selection import train_test_split"
      ],
      "execution_count": 19,
      "outputs": []
    },
    {
      "cell_type": "code",
      "metadata": {
        "id": "zWZAMm3XOmSy"
      },
      "source": [
        "x_train,x_test,y_train,y_test = train_test_split(x,y,test_size = 0.2)"
      ],
      "execution_count": 20,
      "outputs": []
    },
    {
      "cell_type": "markdown",
      "metadata": {
        "id": "Xa8RP9HdPCWz"
      },
      "source": [
        "##Scale images down by 255"
      ]
    },
    {
      "cell_type": "code",
      "metadata": {
        "id": "FEw_KVEXPFBo"
      },
      "source": [
        "x_train = x_train/255.0\n",
        "x_test = x_test/255.0"
      ],
      "execution_count": 21,
      "outputs": []
    },
    {
      "cell_type": "code",
      "metadata": {
        "colab": {
          "base_uri": "https://localhost:8080/"
        },
        "id": "Q4LihgQKPLNu",
        "outputId": "f06b59cd-bdd7-4e18-8750-3d2dddfda989"
      },
      "source": [
        "x_train[0].shape"
      ],
      "execution_count": 22,
      "outputs": [
        {
          "output_type": "execute_result",
          "data": {
            "text/plain": [
              "(48, 48, 1)"
            ]
          },
          "metadata": {
            "tags": []
          },
          "execution_count": 22
        }
      ]
    },
    {
      "cell_type": "markdown",
      "metadata": {
        "id": "_KpORHtGPfAi"
      },
      "source": [
        "##Model Building"
      ]
    },
    {
      "cell_type": "code",
      "metadata": {
        "id": "cOuV4SxOP2yt"
      },
      "source": [
        "from keras.layers import Conv2D,Flatten,Dense"
      ],
      "execution_count": 23,
      "outputs": []
    },
    {
      "cell_type": "code",
      "metadata": {
        "id": "D6Eu9gMWVSlH"
      },
      "source": [
        "!rm -r age_prediction"
      ],
      "execution_count": 29,
      "outputs": []
    },
    {
      "cell_type": "code",
      "metadata": {
        "id": "IJtQKl0GPg7z"
      },
      "source": [
        "def build_model(hp):\n",
        "  model = keras.Sequential()  #Model Definition\n",
        "\n",
        "  for i in range(hp.Int('num_layers',2,12)):       #Select number of hidden layers from 2 to 20\n",
        "    model.add(Conv2D(\n",
        "        filters = hp.Int(\"Conv_\"+str(i)+\"_filter\",min_value = 32,max_value = 128,step = 16),\n",
        "        kernel_size = hp.Int(\"Conv_\"+str(i)+\"_kernel\",min_value = 3,max_value = 5,step = 2),\n",
        "        activation = \"relu\"     \n",
        "      )\n",
        "    )\n",
        "\n",
        "  model.add(Flatten())\n",
        "\n",
        "  model.add(Dense(\n",
        "      units = hp.Int(\"dense_1_units\",min_value = 32,max_value = 128),\n",
        "      activation = \"relu\"\n",
        "    )\n",
        "  )\n",
        "  \n",
        "  model.add(Dense(1,activation=\"linear\"))\n",
        "\n",
        "  model.compile(\n",
        "      optimizer = keras.optimizers.Adam(\n",
        "          hp.Choice('learning_rate',[1e-1,1e-2,1e-3,1e-4]),\n",
        "      ),\n",
        "      loss = \"mean_squared_logarithmic_error\",\n",
        "      metrics = [\"mean_squared_logarithmic_error\"]\n",
        "  )\n",
        "  return model"
      ],
      "execution_count": 30,
      "outputs": []
    },
    {
      "cell_type": "code",
      "metadata": {
        "id": "DHO9svadTGRQ"
      },
      "source": [
        "from kerastuner import RandomSearch"
      ],
      "execution_count": 31,
      "outputs": []
    },
    {
      "cell_type": "code",
      "metadata": {
        "id": "ZLQ5wJkHTSuf"
      },
      "source": [
        "tuner_search = RandomSearch(build_model,objective=\"val_mean_squared_logarithmic_error\",max_trials=10,directory = \"age_prediction\",project_name = \"age\")"
      ],
      "execution_count": 32,
      "outputs": []
    },
    {
      "cell_type": "code",
      "metadata": {
        "colab": {
          "base_uri": "https://localhost:8080/"
        },
        "id": "1rLS5fqLUDP4",
        "outputId": "0608f22c-9afc-46bc-cb3d-5f5c78550097"
      },
      "source": [
        "tuner_search.search(x_train,y_train,epochs = 3,validation_split = 0.2)"
      ],
      "execution_count": 33,
      "outputs": [
        {
          "output_type": "stream",
          "text": [
            "Trial 10 Complete [00h 00m 51s]\n",
            "val_mean_squared_logarithmic_error: 11.443161964416504\n",
            "\n",
            "Best val_mean_squared_logarithmic_error So Far: 0.19040144979953766\n",
            "Total elapsed time: 00h 06m 42s\n",
            "INFO:tensorflow:Oracle triggered exit\n"
          ],
          "name": "stdout"
        }
      ]
    },
    {
      "cell_type": "code",
      "metadata": {
        "colab": {
          "base_uri": "https://localhost:8080/"
        },
        "id": "NIoM2_vzU0WH",
        "outputId": "9517e9d7-83cb-4b15-9dce-a8afc6a4cd32"
      },
      "source": [
        "tuner_search.results_summary()"
      ],
      "execution_count": 34,
      "outputs": [
        {
          "output_type": "stream",
          "text": [
            "Results summary\n",
            "Results in age_prediction/age\n",
            "Showing 10 best trials\n",
            "Objective(name='val_mean_squared_logarithmic_error', direction='min')\n",
            "Trial summary\n",
            "Hyperparameters:\n",
            "num_layers: 5\n",
            "Conv_0_filter: 48\n",
            "Conv_0_kernel: 5\n",
            "Conv_1_filter: 96\n",
            "Conv_1_kernel: 3\n",
            "dense_1_units: 71\n",
            "learning_rate: 0.001\n",
            "Conv_2_filter: 96\n",
            "Conv_2_kernel: 5\n",
            "Conv_3_filter: 64\n",
            "Conv_3_kernel: 5\n",
            "Conv_4_filter: 128\n",
            "Conv_4_kernel: 3\n",
            "Conv_5_filter: 128\n",
            "Conv_5_kernel: 3\n",
            "Conv_6_filter: 48\n",
            "Conv_6_kernel: 3\n",
            "Conv_7_filter: 128\n",
            "Conv_7_kernel: 3\n",
            "Conv_8_filter: 112\n",
            "Conv_8_kernel: 3\n",
            "Conv_9_filter: 128\n",
            "Conv_9_kernel: 5\n",
            "Conv_10_filter: 64\n",
            "Conv_10_kernel: 5\n",
            "Score: 0.19040144979953766\n",
            "Trial summary\n",
            "Hyperparameters:\n",
            "num_layers: 6\n",
            "Conv_0_filter: 64\n",
            "Conv_0_kernel: 3\n",
            "Conv_1_filter: 112\n",
            "Conv_1_kernel: 3\n",
            "dense_1_units: 81\n",
            "learning_rate: 0.001\n",
            "Conv_2_filter: 32\n",
            "Conv_2_kernel: 5\n",
            "Conv_3_filter: 32\n",
            "Conv_3_kernel: 5\n",
            "Conv_4_filter: 96\n",
            "Conv_4_kernel: 5\n",
            "Conv_5_filter: 48\n",
            "Conv_5_kernel: 3\n",
            "Conv_6_filter: 128\n",
            "Conv_6_kernel: 5\n",
            "Conv_7_filter: 32\n",
            "Conv_7_kernel: 3\n",
            "Conv_8_filter: 64\n",
            "Conv_8_kernel: 5\n",
            "Conv_9_filter: 128\n",
            "Conv_9_kernel: 5\n",
            "Conv_10_filter: 80\n",
            "Conv_10_kernel: 5\n",
            "Score: 0.20696431398391724\n",
            "Trial summary\n",
            "Hyperparameters:\n",
            "num_layers: 8\n",
            "Conv_0_filter: 96\n",
            "Conv_0_kernel: 3\n",
            "Conv_1_filter: 112\n",
            "Conv_1_kernel: 3\n",
            "dense_1_units: 55\n",
            "learning_rate: 0.001\n",
            "Conv_2_filter: 112\n",
            "Conv_2_kernel: 5\n",
            "Conv_3_filter: 96\n",
            "Conv_3_kernel: 5\n",
            "Conv_4_filter: 128\n",
            "Conv_4_kernel: 3\n",
            "Conv_5_filter: 64\n",
            "Conv_5_kernel: 3\n",
            "Conv_6_filter: 32\n",
            "Conv_6_kernel: 5\n",
            "Conv_7_filter: 96\n",
            "Conv_7_kernel: 3\n",
            "Conv_8_filter: 96\n",
            "Conv_8_kernel: 3\n",
            "Conv_9_filter: 64\n",
            "Conv_9_kernel: 3\n",
            "Conv_10_filter: 80\n",
            "Conv_10_kernel: 5\n",
            "Score: 0.2855112552642822\n",
            "Trial summary\n",
            "Hyperparameters:\n",
            "num_layers: 5\n",
            "Conv_0_filter: 128\n",
            "Conv_0_kernel: 3\n",
            "Conv_1_filter: 32\n",
            "Conv_1_kernel: 5\n",
            "dense_1_units: 113\n",
            "learning_rate: 0.0001\n",
            "Conv_2_filter: 80\n",
            "Conv_2_kernel: 3\n",
            "Conv_3_filter: 80\n",
            "Conv_3_kernel: 5\n",
            "Conv_4_filter: 80\n",
            "Conv_4_kernel: 3\n",
            "Conv_5_filter: 80\n",
            "Conv_5_kernel: 3\n",
            "Conv_6_filter: 112\n",
            "Conv_6_kernel: 5\n",
            "Conv_7_filter: 64\n",
            "Conv_7_kernel: 3\n",
            "Conv_8_filter: 48\n",
            "Conv_8_kernel: 5\n",
            "Conv_9_filter: 64\n",
            "Conv_9_kernel: 3\n",
            "Conv_10_filter: 96\n",
            "Conv_10_kernel: 5\n",
            "Score: 0.29751282930374146\n",
            "Trial summary\n",
            "Hyperparameters:\n",
            "num_layers: 11\n",
            "Conv_0_filter: 112\n",
            "Conv_0_kernel: 5\n",
            "Conv_1_filter: 32\n",
            "Conv_1_kernel: 5\n",
            "dense_1_units: 50\n",
            "learning_rate: 0.001\n",
            "Conv_2_filter: 128\n",
            "Conv_2_kernel: 5\n",
            "Conv_3_filter: 32\n",
            "Conv_3_kernel: 3\n",
            "Conv_4_filter: 96\n",
            "Conv_4_kernel: 3\n",
            "Conv_5_filter: 112\n",
            "Conv_5_kernel: 5\n",
            "Conv_6_filter: 32\n",
            "Conv_6_kernel: 3\n",
            "Conv_7_filter: 32\n",
            "Conv_7_kernel: 3\n",
            "Conv_8_filter: 32\n",
            "Conv_8_kernel: 3\n",
            "Conv_9_filter: 32\n",
            "Conv_9_kernel: 3\n",
            "Conv_10_filter: 32\n",
            "Conv_10_kernel: 3\n",
            "Score: 0.4293672442436218\n",
            "Trial summary\n",
            "Hyperparameters:\n",
            "num_layers: 6\n",
            "Conv_0_filter: 32\n",
            "Conv_0_kernel: 5\n",
            "Conv_1_filter: 48\n",
            "Conv_1_kernel: 3\n",
            "dense_1_units: 117\n",
            "learning_rate: 0.1\n",
            "Conv_2_filter: 32\n",
            "Conv_2_kernel: 3\n",
            "Conv_3_filter: 32\n",
            "Conv_3_kernel: 3\n",
            "Conv_4_filter: 32\n",
            "Conv_4_kernel: 3\n",
            "Conv_5_filter: 32\n",
            "Conv_5_kernel: 3\n",
            "Score: 11.443161964416504\n",
            "Trial summary\n",
            "Hyperparameters:\n",
            "num_layers: 3\n",
            "Conv_0_filter: 96\n",
            "Conv_0_kernel: 3\n",
            "Conv_1_filter: 48\n",
            "Conv_1_kernel: 3\n",
            "dense_1_units: 76\n",
            "learning_rate: 0.1\n",
            "Conv_2_filter: 96\n",
            "Conv_2_kernel: 5\n",
            "Conv_3_filter: 64\n",
            "Conv_3_kernel: 5\n",
            "Conv_4_filter: 112\n",
            "Conv_4_kernel: 5\n",
            "Conv_5_filter: 48\n",
            "Conv_5_kernel: 3\n",
            "Conv_6_filter: 48\n",
            "Conv_6_kernel: 5\n",
            "Conv_7_filter: 96\n",
            "Conv_7_kernel: 5\n",
            "Conv_8_filter: 48\n",
            "Conv_8_kernel: 3\n",
            "Conv_9_filter: 32\n",
            "Conv_9_kernel: 5\n",
            "Conv_10_filter: 112\n",
            "Conv_10_kernel: 3\n",
            "Score: 11.443161964416504\n",
            "Trial summary\n",
            "Hyperparameters:\n",
            "num_layers: 8\n",
            "Conv_0_filter: 80\n",
            "Conv_0_kernel: 5\n",
            "Conv_1_filter: 128\n",
            "Conv_1_kernel: 3\n",
            "dense_1_units: 83\n",
            "learning_rate: 0.01\n",
            "Conv_2_filter: 80\n",
            "Conv_2_kernel: 3\n",
            "Conv_3_filter: 112\n",
            "Conv_3_kernel: 5\n",
            "Conv_4_filter: 64\n",
            "Conv_4_kernel: 5\n",
            "Conv_5_filter: 112\n",
            "Conv_5_kernel: 3\n",
            "Conv_6_filter: 64\n",
            "Conv_6_kernel: 3\n",
            "Conv_7_filter: 64\n",
            "Conv_7_kernel: 3\n",
            "Conv_8_filter: 48\n",
            "Conv_8_kernel: 5\n",
            "Conv_9_filter: 128\n",
            "Conv_9_kernel: 5\n",
            "Conv_10_filter: 112\n",
            "Conv_10_kernel: 3\n",
            "Score: 11.443161964416504\n",
            "Trial summary\n",
            "Hyperparameters:\n",
            "num_layers: 4\n",
            "Conv_0_filter: 64\n",
            "Conv_0_kernel: 3\n",
            "Conv_1_filter: 32\n",
            "Conv_1_kernel: 3\n",
            "dense_1_units: 113\n",
            "learning_rate: 0.1\n",
            "Conv_2_filter: 112\n",
            "Conv_2_kernel: 3\n",
            "Conv_3_filter: 32\n",
            "Conv_3_kernel: 5\n",
            "Conv_4_filter: 48\n",
            "Conv_4_kernel: 3\n",
            "Conv_5_filter: 128\n",
            "Conv_5_kernel: 3\n",
            "Conv_6_filter: 80\n",
            "Conv_6_kernel: 3\n",
            "Conv_7_filter: 48\n",
            "Conv_7_kernel: 5\n",
            "Conv_8_filter: 48\n",
            "Conv_8_kernel: 5\n",
            "Conv_9_filter: 112\n",
            "Conv_9_kernel: 5\n",
            "Conv_10_filter: 112\n",
            "Conv_10_kernel: 3\n",
            "Score: 11.443161964416504\n",
            "Trial summary\n",
            "Hyperparameters:\n",
            "num_layers: 9\n",
            "Conv_0_filter: 48\n",
            "Conv_0_kernel: 5\n",
            "Conv_1_filter: 80\n",
            "Conv_1_kernel: 3\n",
            "dense_1_units: 120\n",
            "learning_rate: 0.1\n",
            "Conv_2_filter: 128\n",
            "Conv_2_kernel: 5\n",
            "Conv_3_filter: 64\n",
            "Conv_3_kernel: 5\n",
            "Conv_4_filter: 80\n",
            "Conv_4_kernel: 5\n",
            "Conv_5_filter: 96\n",
            "Conv_5_kernel: 3\n",
            "Conv_6_filter: 80\n",
            "Conv_6_kernel: 5\n",
            "Conv_7_filter: 32\n",
            "Conv_7_kernel: 5\n",
            "Conv_8_filter: 80\n",
            "Conv_8_kernel: 3\n",
            "Conv_9_filter: 96\n",
            "Conv_9_kernel: 5\n",
            "Conv_10_filter: 96\n",
            "Conv_10_kernel: 5\n",
            "Score: 11.443161964416504\n"
          ],
          "name": "stdout"
        }
      ]
    },
    {
      "cell_type": "code",
      "metadata": {
        "id": "zrxTmI05ZQj7"
      },
      "source": [
        "models = tuner_search.get_best_models(num_models=1)"
      ],
      "execution_count": 35,
      "outputs": []
    },
    {
      "cell_type": "code",
      "metadata": {
        "id": "P6xA9gACZZjm"
      },
      "source": [
        "model = models[0]"
      ],
      "execution_count": 36,
      "outputs": []
    },
    {
      "cell_type": "code",
      "metadata": {
        "colab": {
          "base_uri": "https://localhost:8080/"
        },
        "id": "4-wLGTulZeO_",
        "outputId": "557727be-f4d5-4ca9-9dc9-383037b29ac6"
      },
      "source": [
        "model_history = model.fit(x_train,y_train,epochs = 50,validation_split=0.1,initial_epoch=3)"
      ],
      "execution_count": 37,
      "outputs": [
        {
          "output_type": "stream",
          "text": [
            "Epoch 4/50\n",
            "534/534 [==============================] - 16s 28ms/step - loss: 0.1696 - mean_squared_logarithmic_error: 0.1696 - val_loss: 0.1695 - val_mean_squared_logarithmic_error: 0.1695\n",
            "Epoch 5/50\n",
            "534/534 [==============================] - 14s 26ms/step - loss: 0.1403 - mean_squared_logarithmic_error: 0.1403 - val_loss: 0.1527 - val_mean_squared_logarithmic_error: 0.1527\n",
            "Epoch 6/50\n",
            "534/534 [==============================] - 14s 27ms/step - loss: 0.1188 - mean_squared_logarithmic_error: 0.1188 - val_loss: 0.1301 - val_mean_squared_logarithmic_error: 0.1301\n",
            "Epoch 7/50\n",
            "534/534 [==============================] - 14s 27ms/step - loss: 0.1001 - mean_squared_logarithmic_error: 0.1001 - val_loss: 0.1402 - val_mean_squared_logarithmic_error: 0.1402\n",
            "Epoch 8/50\n",
            "534/534 [==============================] - 14s 26ms/step - loss: 0.0886 - mean_squared_logarithmic_error: 0.0886 - val_loss: 0.1190 - val_mean_squared_logarithmic_error: 0.1190\n",
            "Epoch 9/50\n",
            "534/534 [==============================] - 14s 26ms/step - loss: 0.0782 - mean_squared_logarithmic_error: 0.0782 - val_loss: 0.1124 - val_mean_squared_logarithmic_error: 0.1124\n",
            "Epoch 10/50\n",
            "534/534 [==============================] - 14s 26ms/step - loss: 0.0613 - mean_squared_logarithmic_error: 0.0613 - val_loss: 0.1153 - val_mean_squared_logarithmic_error: 0.1153\n",
            "Epoch 11/50\n",
            "534/534 [==============================] - 14s 26ms/step - loss: 0.0507 - mean_squared_logarithmic_error: 0.0507 - val_loss: 0.1107 - val_mean_squared_logarithmic_error: 0.1107\n",
            "Epoch 12/50\n",
            "534/534 [==============================] - 14s 26ms/step - loss: 0.0441 - mean_squared_logarithmic_error: 0.0441 - val_loss: 0.1138 - val_mean_squared_logarithmic_error: 0.1138\n",
            "Epoch 13/50\n",
            "534/534 [==============================] - 14s 27ms/step - loss: 0.0399 - mean_squared_logarithmic_error: 0.0399 - val_loss: 0.1156 - val_mean_squared_logarithmic_error: 0.1156\n",
            "Epoch 14/50\n",
            "534/534 [==============================] - 14s 26ms/step - loss: 0.0337 - mean_squared_logarithmic_error: 0.0337 - val_loss: 0.1092 - val_mean_squared_logarithmic_error: 0.1092\n",
            "Epoch 15/50\n",
            "534/534 [==============================] - 14s 26ms/step - loss: 0.0271 - mean_squared_logarithmic_error: 0.0271 - val_loss: 0.1112 - val_mean_squared_logarithmic_error: 0.1112\n",
            "Epoch 16/50\n",
            "534/534 [==============================] - 14s 26ms/step - loss: 0.0209 - mean_squared_logarithmic_error: 0.0209 - val_loss: 0.1171 - val_mean_squared_logarithmic_error: 0.1171\n",
            "Epoch 17/50\n",
            "534/534 [==============================] - 14s 26ms/step - loss: 0.0174 - mean_squared_logarithmic_error: 0.0174 - val_loss: 0.1172 - val_mean_squared_logarithmic_error: 0.1172\n",
            "Epoch 18/50\n",
            "534/534 [==============================] - 14s 26ms/step - loss: 0.0169 - mean_squared_logarithmic_error: 0.0169 - val_loss: 0.1137 - val_mean_squared_logarithmic_error: 0.1137\n",
            "Epoch 19/50\n",
            "534/534 [==============================] - 14s 26ms/step - loss: 0.0157 - mean_squared_logarithmic_error: 0.0157 - val_loss: 0.1144 - val_mean_squared_logarithmic_error: 0.1144\n",
            "Epoch 20/50\n",
            "534/534 [==============================] - 14s 26ms/step - loss: 0.0128 - mean_squared_logarithmic_error: 0.0128 - val_loss: 0.1100 - val_mean_squared_logarithmic_error: 0.1100\n",
            "Epoch 21/50\n",
            "534/534 [==============================] - 14s 26ms/step - loss: 0.0109 - mean_squared_logarithmic_error: 0.0109 - val_loss: 0.1119 - val_mean_squared_logarithmic_error: 0.1119\n",
            "Epoch 22/50\n",
            "534/534 [==============================] - 14s 26ms/step - loss: 0.0128 - mean_squared_logarithmic_error: 0.0128 - val_loss: 0.1174 - val_mean_squared_logarithmic_error: 0.1174\n",
            "Epoch 23/50\n",
            "534/534 [==============================] - 14s 26ms/step - loss: 0.0117 - mean_squared_logarithmic_error: 0.0117 - val_loss: 0.1131 - val_mean_squared_logarithmic_error: 0.1131\n",
            "Epoch 24/50\n",
            "534/534 [==============================] - 14s 26ms/step - loss: 0.0103 - mean_squared_logarithmic_error: 0.0103 - val_loss: 0.1152 - val_mean_squared_logarithmic_error: 0.1152\n",
            "Epoch 25/50\n",
            "534/534 [==============================] - 14s 26ms/step - loss: 0.0101 - mean_squared_logarithmic_error: 0.0101 - val_loss: 0.1133 - val_mean_squared_logarithmic_error: 0.1133\n",
            "Epoch 26/50\n",
            "534/534 [==============================] - 14s 26ms/step - loss: 0.0109 - mean_squared_logarithmic_error: 0.0109 - val_loss: 0.1174 - val_mean_squared_logarithmic_error: 0.1174\n",
            "Epoch 27/50\n",
            "534/534 [==============================] - 14s 26ms/step - loss: 0.0084 - mean_squared_logarithmic_error: 0.0084 - val_loss: 0.1076 - val_mean_squared_logarithmic_error: 0.1076\n",
            "Epoch 28/50\n",
            "534/534 [==============================] - 14s 26ms/step - loss: 0.0071 - mean_squared_logarithmic_error: 0.0071 - val_loss: 0.1111 - val_mean_squared_logarithmic_error: 0.1111\n",
            "Epoch 29/50\n",
            "534/534 [==============================] - 14s 26ms/step - loss: 0.0075 - mean_squared_logarithmic_error: 0.0075 - val_loss: 0.1093 - val_mean_squared_logarithmic_error: 0.1093\n",
            "Epoch 30/50\n",
            "534/534 [==============================] - 14s 26ms/step - loss: 0.0082 - mean_squared_logarithmic_error: 0.0082 - val_loss: 0.1143 - val_mean_squared_logarithmic_error: 0.1143\n",
            "Epoch 31/50\n",
            "534/534 [==============================] - 14s 26ms/step - loss: 0.0070 - mean_squared_logarithmic_error: 0.0070 - val_loss: 0.1146 - val_mean_squared_logarithmic_error: 0.1146\n",
            "Epoch 32/50\n",
            "534/534 [==============================] - 14s 26ms/step - loss: 0.0066 - mean_squared_logarithmic_error: 0.0066 - val_loss: 0.1082 - val_mean_squared_logarithmic_error: 0.1082\n",
            "Epoch 33/50\n",
            "534/534 [==============================] - 14s 26ms/step - loss: 0.0060 - mean_squared_logarithmic_error: 0.0060 - val_loss: 0.1125 - val_mean_squared_logarithmic_error: 0.1125\n",
            "Epoch 34/50\n",
            "534/534 [==============================] - 14s 26ms/step - loss: 0.0064 - mean_squared_logarithmic_error: 0.0064 - val_loss: 0.1096 - val_mean_squared_logarithmic_error: 0.1096\n",
            "Epoch 35/50\n",
            "534/534 [==============================] - 14s 26ms/step - loss: 0.0064 - mean_squared_logarithmic_error: 0.0064 - val_loss: 0.1087 - val_mean_squared_logarithmic_error: 0.1087\n",
            "Epoch 36/50\n",
            "534/534 [==============================] - 14s 26ms/step - loss: 0.0074 - mean_squared_logarithmic_error: 0.0074 - val_loss: 0.1111 - val_mean_squared_logarithmic_error: 0.1111\n",
            "Epoch 37/50\n",
            "534/534 [==============================] - 14s 26ms/step - loss: 0.0060 - mean_squared_logarithmic_error: 0.0060 - val_loss: 0.1104 - val_mean_squared_logarithmic_error: 0.1104\n",
            "Epoch 38/50\n",
            "534/534 [==============================] - 14s 26ms/step - loss: 0.0047 - mean_squared_logarithmic_error: 0.0047 - val_loss: 0.1089 - val_mean_squared_logarithmic_error: 0.1089\n",
            "Epoch 39/50\n",
            "534/534 [==============================] - 14s 26ms/step - loss: 0.0050 - mean_squared_logarithmic_error: 0.0050 - val_loss: 0.1109 - val_mean_squared_logarithmic_error: 0.1109\n",
            "Epoch 40/50\n",
            "534/534 [==============================] - 14s 26ms/step - loss: 0.0054 - mean_squared_logarithmic_error: 0.0054 - val_loss: 0.1122 - val_mean_squared_logarithmic_error: 0.1122\n",
            "Epoch 41/50\n",
            "534/534 [==============================] - 14s 26ms/step - loss: 0.0055 - mean_squared_logarithmic_error: 0.0055 - val_loss: 0.1136 - val_mean_squared_logarithmic_error: 0.1136\n",
            "Epoch 42/50\n",
            "534/534 [==============================] - 14s 26ms/step - loss: 0.0058 - mean_squared_logarithmic_error: 0.0058 - val_loss: 0.1065 - val_mean_squared_logarithmic_error: 0.1065\n",
            "Epoch 43/50\n",
            "534/534 [==============================] - 14s 26ms/step - loss: 0.0055 - mean_squared_logarithmic_error: 0.0055 - val_loss: 0.1147 - val_mean_squared_logarithmic_error: 0.1147\n",
            "Epoch 44/50\n",
            "534/534 [==============================] - 14s 26ms/step - loss: 0.0048 - mean_squared_logarithmic_error: 0.0048 - val_loss: 0.1071 - val_mean_squared_logarithmic_error: 0.1071\n",
            "Epoch 45/50\n",
            "534/534 [==============================] - 14s 26ms/step - loss: 0.0058 - mean_squared_logarithmic_error: 0.0058 - val_loss: 0.1079 - val_mean_squared_logarithmic_error: 0.1079\n",
            "Epoch 46/50\n",
            "534/534 [==============================] - 14s 26ms/step - loss: 0.0045 - mean_squared_logarithmic_error: 0.0045 - val_loss: 0.1089 - val_mean_squared_logarithmic_error: 0.1089\n",
            "Epoch 47/50\n",
            "534/534 [==============================] - 14s 26ms/step - loss: 0.0057 - mean_squared_logarithmic_error: 0.0057 - val_loss: 0.1071 - val_mean_squared_logarithmic_error: 0.1071\n",
            "Epoch 48/50\n",
            "534/534 [==============================] - 14s 26ms/step - loss: 0.0039 - mean_squared_logarithmic_error: 0.0039 - val_loss: 0.1068 - val_mean_squared_logarithmic_error: 0.1068\n",
            "Epoch 49/50\n",
            "534/534 [==============================] - 14s 26ms/step - loss: 0.0045 - mean_squared_logarithmic_error: 0.0045 - val_loss: 0.1107 - val_mean_squared_logarithmic_error: 0.1107\n",
            "Epoch 50/50\n",
            "534/534 [==============================] - 14s 26ms/step - loss: 0.0049 - mean_squared_logarithmic_error: 0.0049 - val_loss: 0.1080 - val_mean_squared_logarithmic_error: 0.1080\n"
          ],
          "name": "stdout"
        }
      ]
    },
    {
      "cell_type": "code",
      "metadata": {
        "colab": {
          "base_uri": "https://localhost:8080/"
        },
        "id": "BC84g3VWhs7F",
        "outputId": "910f7669-58ed-427d-8fab-be11c18899c5"
      },
      "source": [
        "model.summary()"
      ],
      "execution_count": 41,
      "outputs": [
        {
          "output_type": "stream",
          "text": [
            "Model: \"sequential\"\n",
            "_________________________________________________________________\n",
            "Layer (type)                 Output Shape              Param #   \n",
            "=================================================================\n",
            "conv2d (Conv2D)              (None, 44, 44, 48)        1248      \n",
            "_________________________________________________________________\n",
            "conv2d_1 (Conv2D)            (None, 42, 42, 96)        41568     \n",
            "_________________________________________________________________\n",
            "conv2d_2 (Conv2D)            (None, 38, 38, 96)        230496    \n",
            "_________________________________________________________________\n",
            "conv2d_3 (Conv2D)            (None, 34, 34, 64)        153664    \n",
            "_________________________________________________________________\n",
            "conv2d_4 (Conv2D)            (None, 32, 32, 128)       73856     \n",
            "_________________________________________________________________\n",
            "flatten (Flatten)            (None, 131072)            0         \n",
            "_________________________________________________________________\n",
            "dense (Dense)                (None, 71)                9306183   \n",
            "_________________________________________________________________\n",
            "dense_1 (Dense)              (None, 1)                 72        \n",
            "=================================================================\n",
            "Total params: 9,807,087\n",
            "Trainable params: 9,807,087\n",
            "Non-trainable params: 0\n",
            "_________________________________________________________________\n"
          ],
          "name": "stdout"
        }
      ]
    },
    {
      "cell_type": "code",
      "metadata": {
        "colab": {
          "base_uri": "https://localhost:8080/"
        },
        "id": "XzVshdnmaEyQ",
        "outputId": "493ae604-663d-4230-a8fc-d117ccc29e52"
      },
      "source": [
        "loss_and_metrics = model.evaluate(x_test, y_test, batch_size=128)"
      ],
      "execution_count": 40,
      "outputs": [
        {
          "output_type": "stream",
          "text": [
            "38/38 [==============================] - 3s 30ms/step - loss: 0.0992 - mean_squared_logarithmic_error: 0.0992\n"
          ],
          "name": "stdout"
        }
      ]
    },
    {
      "cell_type": "code",
      "metadata": {
        "id": "FXzUcCvXbrJE"
      },
      "source": [
        "import matplotlib.pyplot as plt\n",
        "%matplotlib inline"
      ],
      "execution_count": 39,
      "outputs": []
    },
    {
      "cell_type": "code",
      "metadata": {
        "colab": {
          "base_uri": "https://localhost:8080/"
        },
        "id": "vM3zLKQOb4A2",
        "outputId": "f8697960-3c8e-4ec6-d9fe-568e99029979"
      },
      "source": [
        "print(model_history.history.keys())"
      ],
      "execution_count": 38,
      "outputs": [
        {
          "output_type": "stream",
          "text": [
            "dict_keys(['loss', 'mean_squared_logarithmic_error', 'val_loss', 'val_mean_squared_logarithmic_error'])\n"
          ],
          "name": "stdout"
        }
      ]
    },
    {
      "cell_type": "code",
      "metadata": {
        "colab": {
          "base_uri": "https://localhost:8080/",
          "height": 282
        },
        "id": "Dwl989bDcC4f",
        "outputId": "161b3ce3-3c17-444a-ead6-507b1f75b204"
      },
      "source": [
        "plt.plot(model_history.history[\"loss\"])"
      ],
      "execution_count": 42,
      "outputs": [
        {
          "output_type": "execute_result",
          "data": {
            "text/plain": [
              "[<matplotlib.lines.Line2D at 0x7fbaeaada3d0>]"
            ]
          },
          "metadata": {
            "tags": []
          },
          "execution_count": 42
        },
        {
          "output_type": "display_data",
          "data": {
            "image/png": "[encoded data removed]",
            "text/plain": [
              "<Figure size 432x288 with 1 Axes>"
            ]
          },
          "metadata": {
            "tags": [],
            "needs_background": "light"
          }
        }
      ]
    },
    {
      "cell_type": "code",
      "metadata": {
        "colab": {
          "base_uri": "https://localhost:8080/",
          "height": 282
        },
        "id": "CuNu6T7-h_nr",
        "outputId": "7be6fedd-95a4-43a6-bcbc-c43ceef1de39"
      },
      "source": [
        "plt.plot(model_history.history[\"val_loss\"])"
      ],
      "execution_count": 43,
      "outputs": [
        {
          "output_type": "execute_result",
          "data": {
            "text/plain": [
              "[<matplotlib.lines.Line2D at 0x7fbaea57cbd0>]"
            ]
          },
          "metadata": {
            "tags": []
          },
          "execution_count": 43
        },
        {
          "output_type": "display_data",
          "data": {
            "image/png": "[encoded data removed]",
            "text/plain": [
              "<Figure size 432x288 with 1 Axes>"
            ]
          },
          "metadata": {
            "tags": [],
            "needs_background": "light"
          }
        }
      ]
    },
    {
      "cell_type": "markdown",
      "metadata": {
        "id": "oFedhU6niJKi"
      },
      "source": [
        "##Reimagining The Predicted Images"
      ]
    },
    {
      "cell_type": "code",
      "metadata": {
        "colab": {
          "base_uri": "https://localhost:8080/"
        },
        "id": "Jq__CxfYiM6a",
        "outputId": "5dc19db0-96c0-4d7e-eb89-574869bf8b6d"
      },
      "source": [
        "x_test[0].shape"
      ],
      "execution_count": 45,
      "outputs": [
        {
          "output_type": "execute_result",
          "data": {
            "text/plain": [
              "(48, 48, 1)"
            ]
          },
          "metadata": {
            "tags": []
          },
          "execution_count": 45
        }
      ]
    },
    {
      "cell_type": "code",
      "metadata": {
        "colab": {
          "base_uri": "https://localhost:8080/",
          "height": 284
        },
        "id": "hGGlLSVpiOmK",
        "outputId": "71fd9bef-502a-4651-c957-7a3949ffd811"
      },
      "source": [
        "plt.imshow(np.reshape(x_test[450],(48,48)),cmap='gray')"
      ],
      "execution_count": 62,
      "outputs": [
        {
          "output_type": "execute_result",
          "data": {
            "text/plain": [
              "<matplotlib.image.AxesImage at 0x7fbab63c2290>"
            ]
          },
          "metadata": {
            "tags": []
          },
          "execution_count": 62
        },
        {
          "output_type": "display_data",
          "data": {
            "image/png": "[encoded data removed]",
            "text/plain": [
              "<Figure size 432x288 with 1 Axes>"
            ]
          },
          "metadata": {
            "tags": [],
            "needs_background": "light"
          }
        }
      ]
    },
    {
      "cell_type": "code",
      "metadata": {
        "colab": {
          "base_uri": "https://localhost:8080/"
        },
        "id": "BDHW244-kZkX",
        "outputId": "61169b73-48d4-445f-dfa9-a1271622e463"
      },
      "source": [
        "x_test.shape"
      ],
      "execution_count": 64,
      "outputs": [
        {
          "output_type": "execute_result",
          "data": {
            "text/plain": [
              "(4741, 48, 48, 1)"
            ]
          },
          "metadata": {
            "tags": []
          },
          "execution_count": 64
        }
      ]
    },
    {
      "cell_type": "code",
      "metadata": {
        "id": "DJaEqwJLitU6"
      },
      "source": [
        "y_pred = model.predict(x_test)"
      ],
      "execution_count": 48,
      "outputs": []
    },
    {
      "cell_type": "code",
      "metadata": {
        "colab": {
          "base_uri": "https://localhost:8080/"
        },
        "id": "azEZBq_Mi5-E",
        "outputId": "4c78374a-06b4-4dd6-e2e8-f2d1895a2d05"
      },
      "source": [
        "y_pred[450]"
      ],
      "execution_count": 63,
      "outputs": [
        {
          "output_type": "execute_result",
          "data": {
            "text/plain": [
              "array([41.745033], dtype=float32)"
            ]
          },
          "metadata": {
            "tags": []
          },
          "execution_count": 63
        }
      ]
    },
    {
      "cell_type": "code",
      "metadata": {
        "id": "neW6VALAlAWq"
      },
      "source": [
        "import pickle"
      ],
      "execution_count": 66,
      "outputs": []
    },
    {
      "cell_type": "code",
      "metadata": {
        "colab": {
          "base_uri": "https://localhost:8080/"
        },
        "id": "vugNMyL_lNLi",
        "outputId": "a0097f76-594b-4441-8723-8dc8192f0ae7"
      },
      "source": [
        "model.save(\"cnnmodel\")"
      ],
      "execution_count": 68,
      "outputs": [
        {
          "output_type": "stream",
          "text": [
            "INFO:tensorflow:Assets written to: cnnmodel/assets\n"
          ],
          "name": "stdout"
        }
      ]
    },
    {
      "cell_type": "code",
      "metadata": {
        "id": "Jz9v8X8LlYkl"
      },
      "source": [
        "del model  # deletes the existing model"
      ],
      "execution_count": 69,
      "outputs": []
    },
    {
      "cell_type": "code",
      "metadata": {
        "id": "LPMoXCO4l9bH"
      },
      "source": [
        "model = keras.models.load_model(\"cnnmodel\")"
      ],
      "execution_count": 71,
      "outputs": []
    },
    {
      "cell_type": "code",
      "metadata": {
        "id": "BDxXs8QOmDKI"
      },
      "source": [
        ""
      ],
      "execution_count": null,
      "outputs": []
    }
  ]
}