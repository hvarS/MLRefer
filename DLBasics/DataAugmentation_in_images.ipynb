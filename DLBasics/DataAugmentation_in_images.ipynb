{
  "nbformat": 4,
  "nbformat_minor": 0,
  "metadata": {
    "colab": {
      "name": "DataAugmentation_in_images.ipynb",
      "provenance": []
    },
    "kernelspec": {
      "name": "python3",
      "display_name": "Python 3"
    },
    "language_info": {
      "name": "python"
    }
  },
  "cells": [
    {
      "cell_type": "code",
      "metadata": {
        "id": "dEvn7GMkC37Q"
      },
      "source": [
        "import keras"
      ],
      "execution_count": 2,
      "outputs": []
    },
    {
      "cell_type": "code",
      "metadata": {
        "id": "3h9cVWcrCVbs"
      },
      "source": [
        "from keras.preprocessing.image import ImageDataGenerator,img_to_array,array_to_img,load_img"
      ],
      "execution_count": 4,
      "outputs": []
    },
    {
      "cell_type": "code",
      "metadata": {
        "colab": {
          "base_uri": "https://localhost:8080/"
        },
        "id": "b1gvbFLyEzcT",
        "outputId": "2af15d29-09d6-49a5-96e2-2184ed3a7bd3"
      },
      "source": [
        "!wget https://i.annihil.us/u/prod/marvel/images/OpenGraph-TW-1200x630.jpg"
      ],
      "execution_count": 12,
      "outputs": [
        {
          "output_type": "stream",
          "text": [
            "--2021-05-13 09:36:06--  https://i.annihil.us/u/prod/marvel/images/OpenGraph-TW-1200x630.jpg\n",
            "Resolving i.annihil.us (i.annihil.us)... 69.28.187.172\n",
            "Connecting to i.annihil.us (i.annihil.us)|69.28.187.172|:443... connected.\n",
            "HTTP request sent, awaiting response... 200 OK\n",
            "Length: 607234 (593K) [image/jpeg]\n",
            "Saving to: ‘OpenGraph-TW-1200x630.jpg’\n",
            "\n",
            "OpenGraph-TW-1200x6 100%[===================>] 593.00K  --.-KB/s    in 0.07s   \n",
            "\n",
            "2021-05-13 09:36:06 (8.49 MB/s) - ‘OpenGraph-TW-1200x630.jpg’ saved [607234/607234]\n",
            "\n"
          ],
          "name": "stdout"
        }
      ]
    },
    {
      "cell_type": "code",
      "metadata": {
        "id": "4QzFaanVC0ti"
      },
      "source": [
        "datagen = ImageDataGenerator(\n",
        "        rotation_range=40,\n",
        "        width_shift_range=0.2,\n",
        "        height_shift_range=0.2,\n",
        "        rescale=1./255,\n",
        "        shear_range=0.2,\n",
        "        zoom_range=0.2,\n",
        "        horizontal_flip=True,\n",
        "        fill_mode='nearest')"
      ],
      "execution_count": 9,
      "outputs": []
    },
    {
      "cell_type": "code",
      "metadata": {
        "colab": {
          "base_uri": "https://localhost:8080/"
        },
        "id": "FQYkCiIgE52i",
        "outputId": "ebb21b19-0348-4052-d70f-316edc3caa75"
      },
      "source": [
        "img = load_img('OpenGraph-TW-1200x630.jpg')  # this is a PIL image\n",
        "x = img_to_array(img)  # this is a Numpy array with shape (630, 1200, 3)\n",
        "print(x.shape)\n",
        "x = x.reshape((1,) + x.shape)  # this is a Numpy array with shape (1, 630, 1200, 3)\n",
        "print(x.shape)"
      ],
      "execution_count": 17,
      "outputs": [
        {
          "output_type": "stream",
          "text": [
            "(630, 1200, 3)\n",
            "(1, 630, 1200, 3)\n"
          ],
          "name": "stdout"
        }
      ]
    },
    {
      "cell_type": "code",
      "metadata": {
        "id": "xPIkn99LGJ8D"
      },
      "source": [
        "import os"
      ],
      "execution_count": 19,
      "outputs": []
    },
    {
      "cell_type": "code",
      "metadata": {
        "id": "B-O5y7uTGQJJ"
      },
      "source": [
        "basepath = os.getcwd()"
      ],
      "execution_count": 21,
      "outputs": []
    },
    {
      "cell_type": "code",
      "metadata": {
        "id": "B2HzvIHqGoI9"
      },
      "source": [
        "save_to_dir='preview'"
      ],
      "execution_count": 22,
      "outputs": []
    },
    {
      "cell_type": "code",
      "metadata": {
        "id": "MRtvMSb4FEjy"
      },
      "source": [
        "# the .flow() command below generates batches of randomly transformed images\n",
        "# and saves the results to the `preview/` directory\n",
        "i = 0\n",
        "if not os.path.exists(os.path.join(basepath,save_to_dir)):\n",
        "  os.mkdir(save_to_dir)\n",
        "for batch in datagen.flow(x, batch_size=1,\n",
        "                          save_to_dir=save_to_dir, save_prefix='avengers', save_format='jpeg'):\n",
        "    i += 1\n",
        "    if i > 20:\n",
        "        break  # otherwise the generator would loop indefinitely\n"
      ],
      "execution_count": 26,
      "outputs": []
    },
    {
      "cell_type": "code",
      "metadata": {
        "id": "qKgXBCvxFaF1"
      },
      "source": [
        ""
      ],
      "execution_count": null,
      "outputs": []
    }
  ]
}