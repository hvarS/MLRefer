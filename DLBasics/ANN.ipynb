{
  "nbformat": 4,
  "nbformat_minor": 0,
  "metadata": {
    "colab": {
      "name": "ANN.ipynb",
      "provenance": []
    },
    "kernelspec": {
      "name": "python3",
      "display_name": "Python 3"
    },
    "language_info": {
      "name": "python"
    }
  },
  "cells": [
    {
      "cell_type": "code",
      "metadata": {
        "id": "JtdyQYVJjPv2"
      },
      "source": [
        "import pandas as pd\n",
        "import numpy as np\n",
        "from tensorflow import keras"
      ],
      "execution_count": 4,
      "outputs": []
    },
    {
      "cell_type": "code",
      "metadata": {
        "colab": {
          "base_uri": "https://localhost:8080/"
        },
        "id": "opH6UMQOkoUb",
        "outputId": "be5c204c-604b-4b2e-ac72-96e1b3b415e2"
      },
      "source": [
        "from google.colab import drive\n",
        "drive.mount('/content/gdrive')\n",
        "\n",
        "\n",
        "def setup_dataset(text):\n",
        "  import shutil\n",
        "  import os\n",
        "  %cd /content/gdrive/My Drive/Kaggle/\n",
        "  strings = text.split(' ')[-1]\n",
        "  folder = strings.split('/')[1]\n",
        "  os.environ['KAGGLE_CONFIG_DIR'] = \"/content/gdrive/My Drive/Kaggle/\"+folder\n",
        "  print(strings)\n",
        "  print(folder)\n",
        "  !mkdir $folder\n",
        "  shutil.copy2(\"kaggle.json\",\"./\"+folder+\"/kaggle.json\")\n",
        "  %cd $folder\n",
        "  !kaggle datasets download -d $strings\n",
        "  \n",
        "setup_dataset(\"kaggle datasets download -d sulianova/cardiovascular-disease-dataset\")"
      ],
      "execution_count": 1,
      "outputs": [
        {
          "output_type": "stream",
          "text": [
            "Mounted at /content/gdrive\n",
            "/content/gdrive/My Drive/Kaggle\n",
            "sulianova/cardiovascular-disease-dataset\n",
            "cardiovascular-disease-dataset\n",
            "/content/gdrive/My Drive/Kaggle/cardiovascular-disease-dataset\n",
            "Downloading cardiovascular-disease-dataset.zip to /content/gdrive/My Drive/Kaggle/cardiovascular-disease-dataset\n",
            "  0% 0.00/742k [00:00<?, ?B/s]\n",
            "100% 742k/742k [00:00<00:00, 40.7MB/s]\n"
          ],
          "name": "stdout"
        }
      ]
    },
    {
      "cell_type": "code",
      "metadata": {
        "colab": {
          "base_uri": "https://localhost:8080/"
        },
        "id": "mBJMWns2kq0T",
        "outputId": "33a5b63c-fb64-4186-dbad-21bec79fb0aa"
      },
      "source": [
        "!unzip cardiovascular-disease-dataset.zip"
      ],
      "execution_count": 2,
      "outputs": [
        {
          "output_type": "stream",
          "text": [
            "Archive:  cardiovascular-disease-dataset.zip\n",
            "  inflating: cardio_train.csv        \n"
          ],
          "name": "stdout"
        }
      ]
    },
    {
      "cell_type": "code",
      "metadata": {
        "id": "znqztWGnk_QV"
      },
      "source": [
        "df = pd.read_csv(\"cardio_train.csv\",sep=';')"
      ],
      "execution_count": 10,
      "outputs": []
    },
    {
      "cell_type": "code",
      "metadata": {
        "colab": {
          "base_uri": "https://localhost:8080/",
          "height": 204
        },
        "id": "geWVrg3-lTV-",
        "outputId": "69f4caec-db5b-46d5-df29-8d29a4d3b5b2"
      },
      "source": [
        "df.head()"
      ],
      "execution_count": 11,
      "outputs": [
        {
          "output_type": "execute_result",
          "data": {
            "text/html": [
              "<div>\n",
              "<style scoped>\n",
              "    .dataframe tbody tr th:only-of-type {\n",
              "        vertical-align: middle;\n",
              "    }\n",
              "\n",
              "    .dataframe tbody tr th {\n",
              "        vertical-align: top;\n",
              "    }\n",
              "\n",
              "    .dataframe thead th {\n",
              "        text-align: right;\n",
              "    }\n",
              "</style>\n",
              "<table border=\"1\" class=\"dataframe\">\n",
              "  <thead>\n",
              "    <tr style=\"text-align: right;\">\n",
              "      <th></th>\n",
              "      <th>id</th>\n",
              "      <th>age</th>\n",
              "      <th>gender</th>\n",
              "      <th>height</th>\n",
              "      <th>weight</th>\n",
              "      <th>ap_hi</th>\n",
              "      <th>ap_lo</th>\n",
              "      <th>cholesterol</th>\n",
              "      <th>gluc</th>\n",
              "      <th>smoke</th>\n",
              "      <th>alco</th>\n",
              "      <th>active</th>\n",
              "      <th>cardio</th>\n",
              "    </tr>\n",
              "  </thead>\n",
              "  <tbody>\n",
              "    <tr>\n",
              "      <th>0</th>\n",
              "      <td>0</td>\n",
              "      <td>18393</td>\n",
              "      <td>2</td>\n",
              "      <td>168</td>\n",
              "      <td>62.0</td>\n",
              "      <td>110</td>\n",
              "      <td>80</td>\n",
              "      <td>1</td>\n",
              "      <td>1</td>\n",
              "      <td>0</td>\n",
              "      <td>0</td>\n",
              "      <td>1</td>\n",
              "      <td>0</td>\n",
              "    </tr>\n",
              "    <tr>\n",
              "      <th>1</th>\n",
              "      <td>1</td>\n",
              "      <td>20228</td>\n",
              "      <td>1</td>\n",
              "      <td>156</td>\n",
              "      <td>85.0</td>\n",
              "      <td>140</td>\n",
              "      <td>90</td>\n",
              "      <td>3</td>\n",
              "      <td>1</td>\n",
              "      <td>0</td>\n",
              "      <td>0</td>\n",
              "      <td>1</td>\n",
              "      <td>1</td>\n",
              "    </tr>\n",
              "    <tr>\n",
              "      <th>2</th>\n",
              "      <td>2</td>\n",
              "      <td>18857</td>\n",
              "      <td>1</td>\n",
              "      <td>165</td>\n",
              "      <td>64.0</td>\n",
              "      <td>130</td>\n",
              "      <td>70</td>\n",
              "      <td>3</td>\n",
              "      <td>1</td>\n",
              "      <td>0</td>\n",
              "      <td>0</td>\n",
              "      <td>0</td>\n",
              "      <td>1</td>\n",
              "    </tr>\n",
              "    <tr>\n",
              "      <th>3</th>\n",
              "      <td>3</td>\n",
              "      <td>17623</td>\n",
              "      <td>2</td>\n",
              "      <td>169</td>\n",
              "      <td>82.0</td>\n",
              "      <td>150</td>\n",
              "      <td>100</td>\n",
              "      <td>1</td>\n",
              "      <td>1</td>\n",
              "      <td>0</td>\n",
              "      <td>0</td>\n",
              "      <td>1</td>\n",
              "      <td>1</td>\n",
              "    </tr>\n",
              "    <tr>\n",
              "      <th>4</th>\n",
              "      <td>4</td>\n",
              "      <td>17474</td>\n",
              "      <td>1</td>\n",
              "      <td>156</td>\n",
              "      <td>56.0</td>\n",
              "      <td>100</td>\n",
              "      <td>60</td>\n",
              "      <td>1</td>\n",
              "      <td>1</td>\n",
              "      <td>0</td>\n",
              "      <td>0</td>\n",
              "      <td>0</td>\n",
              "      <td>0</td>\n",
              "    </tr>\n",
              "  </tbody>\n",
              "</table>\n",
              "</div>"
            ],
            "text/plain": [
              "   id    age  gender  height  weight  ...  gluc  smoke  alco  active  cardio\n",
              "0   0  18393       2     168    62.0  ...     1      0     0       1       0\n",
              "1   1  20228       1     156    85.0  ...     1      0     0       1       1\n",
              "2   2  18857       1     165    64.0  ...     1      0     0       0       1\n",
              "3   3  17623       2     169    82.0  ...     1      0     0       1       1\n",
              "4   4  17474       1     156    56.0  ...     1      0     0       0       0\n",
              "\n",
              "[5 rows x 13 columns]"
            ]
          },
          "metadata": {
            "tags": []
          },
          "execution_count": 11
        }
      ]
    },
    {
      "cell_type": "code",
      "metadata": {
        "id": "LS-Li0l1lDOO"
      },
      "source": [
        "x = df.iloc[:,:-1]\n",
        "y = df.iloc[:,-1]"
      ],
      "execution_count": 12,
      "outputs": []
    },
    {
      "cell_type": "code",
      "metadata": {
        "colab": {
          "base_uri": "https://localhost:8080/",
          "height": 204
        },
        "id": "1BWkJstHlMGl",
        "outputId": "67db895a-5a1d-47eb-a412-45c6980bba80"
      },
      "source": [
        "x.head()"
      ],
      "execution_count": 13,
      "outputs": [
        {
          "output_type": "execute_result",
          "data": {
            "text/html": [
              "<div>\n",
              "<style scoped>\n",
              "    .dataframe tbody tr th:only-of-type {\n",
              "        vertical-align: middle;\n",
              "    }\n",
              "\n",
              "    .dataframe tbody tr th {\n",
              "        vertical-align: top;\n",
              "    }\n",
              "\n",
              "    .dataframe thead th {\n",
              "        text-align: right;\n",
              "    }\n",
              "</style>\n",
              "<table border=\"1\" class=\"dataframe\">\n",
              "  <thead>\n",
              "    <tr style=\"text-align: right;\">\n",
              "      <th></th>\n",
              "      <th>id</th>\n",
              "      <th>age</th>\n",
              "      <th>gender</th>\n",
              "      <th>height</th>\n",
              "      <th>weight</th>\n",
              "      <th>ap_hi</th>\n",
              "      <th>ap_lo</th>\n",
              "      <th>cholesterol</th>\n",
              "      <th>gluc</th>\n",
              "      <th>smoke</th>\n",
              "      <th>alco</th>\n",
              "      <th>active</th>\n",
              "    </tr>\n",
              "  </thead>\n",
              "  <tbody>\n",
              "    <tr>\n",
              "      <th>0</th>\n",
              "      <td>0</td>\n",
              "      <td>18393</td>\n",
              "      <td>2</td>\n",
              "      <td>168</td>\n",
              "      <td>62.0</td>\n",
              "      <td>110</td>\n",
              "      <td>80</td>\n",
              "      <td>1</td>\n",
              "      <td>1</td>\n",
              "      <td>0</td>\n",
              "      <td>0</td>\n",
              "      <td>1</td>\n",
              "    </tr>\n",
              "    <tr>\n",
              "      <th>1</th>\n",
              "      <td>1</td>\n",
              "      <td>20228</td>\n",
              "      <td>1</td>\n",
              "      <td>156</td>\n",
              "      <td>85.0</td>\n",
              "      <td>140</td>\n",
              "      <td>90</td>\n",
              "      <td>3</td>\n",
              "      <td>1</td>\n",
              "      <td>0</td>\n",
              "      <td>0</td>\n",
              "      <td>1</td>\n",
              "    </tr>\n",
              "    <tr>\n",
              "      <th>2</th>\n",
              "      <td>2</td>\n",
              "      <td>18857</td>\n",
              "      <td>1</td>\n",
              "      <td>165</td>\n",
              "      <td>64.0</td>\n",
              "      <td>130</td>\n",
              "      <td>70</td>\n",
              "      <td>3</td>\n",
              "      <td>1</td>\n",
              "      <td>0</td>\n",
              "      <td>0</td>\n",
              "      <td>0</td>\n",
              "    </tr>\n",
              "    <tr>\n",
              "      <th>3</th>\n",
              "      <td>3</td>\n",
              "      <td>17623</td>\n",
              "      <td>2</td>\n",
              "      <td>169</td>\n",
              "      <td>82.0</td>\n",
              "      <td>150</td>\n",
              "      <td>100</td>\n",
              "      <td>1</td>\n",
              "      <td>1</td>\n",
              "      <td>0</td>\n",
              "      <td>0</td>\n",
              "      <td>1</td>\n",
              "    </tr>\n",
              "    <tr>\n",
              "      <th>4</th>\n",
              "      <td>4</td>\n",
              "      <td>17474</td>\n",
              "      <td>1</td>\n",
              "      <td>156</td>\n",
              "      <td>56.0</td>\n",
              "      <td>100</td>\n",
              "      <td>60</td>\n",
              "      <td>1</td>\n",
              "      <td>1</td>\n",
              "      <td>0</td>\n",
              "      <td>0</td>\n",
              "      <td>0</td>\n",
              "    </tr>\n",
              "  </tbody>\n",
              "</table>\n",
              "</div>"
            ],
            "text/plain": [
              "   id    age  gender  height  weight  ...  cholesterol  gluc  smoke  alco  active\n",
              "0   0  18393       2     168    62.0  ...            1     1      0     0       1\n",
              "1   1  20228       1     156    85.0  ...            3     1      0     0       1\n",
              "2   2  18857       1     165    64.0  ...            3     1      0     0       0\n",
              "3   3  17623       2     169    82.0  ...            1     1      0     0       1\n",
              "4   4  17474       1     156    56.0  ...            1     1      0     0       0\n",
              "\n",
              "[5 rows x 12 columns]"
            ]
          },
          "metadata": {
            "tags": []
          },
          "execution_count": 13
        }
      ]
    },
    {
      "cell_type": "markdown",
      "metadata": {
        "id": "zZ2L-RcPlhGf"
      },
      "source": [
        "##Train Test Split"
      ]
    },
    {
      "cell_type": "code",
      "metadata": {
        "id": "0atKT0z6liNB"
      },
      "source": [
        "from sklearn.model_selection import train_test_split"
      ],
      "execution_count": 14,
      "outputs": []
    },
    {
      "cell_type": "code",
      "metadata": {
        "id": "62EEzjrRlldC"
      },
      "source": [
        "x_train,x_test,y_train,y_test = train_test_split(x,y,test_size = 0.2,stratify = y)"
      ],
      "execution_count": 16,
      "outputs": []
    },
    {
      "cell_type": "code",
      "metadata": {
        "colab": {
          "base_uri": "https://localhost:8080/"
        },
        "id": "VaEzI7FknHbX",
        "outputId": "34dbd0cc-cab7-4fa5-807b-8ab7f8d1a635"
      },
      "source": [
        "len(x_train)"
      ],
      "execution_count": 23,
      "outputs": [
        {
          "output_type": "execute_result",
          "data": {
            "text/plain": [
              "56000"
            ]
          },
          "metadata": {
            "tags": []
          },
          "execution_count": 23
        }
      ]
    },
    {
      "cell_type": "markdown",
      "metadata": {
        "id": "-_S2aVsol258"
      },
      "source": [
        "##Feature Scaling ( Always Required in DL)"
      ]
    },
    {
      "cell_type": "code",
      "metadata": {
        "id": "4OFtkG6Al50U"
      },
      "source": [
        "from sklearn.preprocessing import RobustScaler"
      ],
      "execution_count": 17,
      "outputs": []
    },
    {
      "cell_type": "code",
      "metadata": {
        "id": "FudeW8vwmDdd"
      },
      "source": [
        "rs = RobustScaler()"
      ],
      "execution_count": 18,
      "outputs": []
    },
    {
      "cell_type": "code",
      "metadata": {
        "id": "JA3WDRaRmJJ9"
      },
      "source": [
        "x_train = rs.fit_transform(x_train)"
      ],
      "execution_count": 19,
      "outputs": []
    },
    {
      "cell_type": "code",
      "metadata": {
        "id": "dN95-ympmYfG"
      },
      "source": [
        "x_test = rs.fit_transform(x_test)"
      ],
      "execution_count": 20,
      "outputs": []
    },
    {
      "cell_type": "markdown",
      "metadata": {
        "id": "pYGntRhGmimd"
      },
      "source": [
        "##Create ANN"
      ]
    },
    {
      "cell_type": "code",
      "metadata": {
        "id": "_GRMVrQomjl7"
      },
      "source": [
        "from keras.models import Sequential\n",
        "from keras.layers import Dense\n",
        "from keras.layers import LeakyReLU,PReLU,ELU\n",
        "from keras.layers import Dropout"
      ],
      "execution_count": 96,
      "outputs": []
    },
    {
      "cell_type": "code",
      "metadata": {
        "id": "6cjoAlzQoIcJ"
      },
      "source": [
        "input_dim = x_train.shape[1]"
      ],
      "execution_count": 97,
      "outputs": []
    },
    {
      "cell_type": "code",
      "metadata": {
        "colab": {
          "base_uri": "https://localhost:8080/"
        },
        "id": "LZmimXjGoMxA",
        "outputId": "5eee26dd-03f0-4565-86b2-8f5be1931954"
      },
      "source": [
        "input_dim"
      ],
      "execution_count": 98,
      "outputs": [
        {
          "output_type": "execute_result",
          "data": {
            "text/plain": [
              "12"
            ]
          },
          "metadata": {
            "tags": []
          },
          "execution_count": 98
        }
      ]
    },
    {
      "cell_type": "code",
      "metadata": {
        "id": "U1NJAT7cm43X"
      },
      "source": [
        "clf = Sequential()"
      ],
      "execution_count": 99,
      "outputs": []
    },
    {
      "cell_type": "code",
      "metadata": {
        "id": "pVR2gRF7m70O"
      },
      "source": [
        "#First Hidden Layer\n",
        "clf.add(Dense(64,activation=\"softplus\",kernel_initializer=\"he_normal\",input_dim = input_dim))"
      ],
      "execution_count": 100,
      "outputs": []
    },
    {
      "cell_type": "code",
      "metadata": {
        "id": "2ZSwaOvPni3p"
      },
      "source": [
        "#Second Hidden Layer \n",
        "clf.add(Dense(16,activation=\"softplus\",kernel_initializer=\"he_normal\",input_dim = 64))"
      ],
      "execution_count": 101,
      "outputs": []
    },
    {
      "cell_type": "code",
      "metadata": {
        "id": "zM0ju6K6sy6E"
      },
      "source": [
        "#Third Hidden Layer \n",
        "clf.add(Dense(4,activation=\"softplus\",kernel_initializer=\"he_normal\",input_dim = 16))"
      ],
      "execution_count": 102,
      "outputs": []
    },
    {
      "cell_type": "code",
      "metadata": {
        "id": "8YhpqBxToseK"
      },
      "source": [
        "#Final Layer \n",
        "clf.add(Dense(1,activation=\"sigmoid\",kernel_initializer=\"glorot_uniform\",input_dim = 4))"
      ],
      "execution_count": 103,
      "outputs": []
    },
    {
      "cell_type": "code",
      "metadata": {
        "id": "A04ghUdXo8Ut"
      },
      "source": [
        "#Compile the ANN\n",
        "clf.compile(optimizer=\"adam\",loss = \"binary_crossentropy\",metrics=[\"accuracy\"])"
      ],
      "execution_count": 104,
      "outputs": []
    },
    {
      "cell_type": "code",
      "metadata": {
        "colab": {
          "base_uri": "https://localhost:8080/"
        },
        "id": "2ku1tkTWpWOa",
        "outputId": "3bd2d0ff-233b-4087-a2e4-4af490f67eea"
      },
      "source": [
        "#Get Summary of the model created \n",
        "clf.summary()"
      ],
      "execution_count": 105,
      "outputs": [
        {
          "output_type": "stream",
          "text": [
            "Model: \"sequential_5\"\n",
            "_________________________________________________________________\n",
            "Layer (type)                 Output Shape              Param #   \n",
            "=================================================================\n",
            "dense_17 (Dense)             (None, 64)                832       \n",
            "_________________________________________________________________\n",
            "dense_18 (Dense)             (None, 16)                1040      \n",
            "_________________________________________________________________\n",
            "dense_19 (Dense)             (None, 4)                 68        \n",
            "_________________________________________________________________\n",
            "dense_20 (Dense)             (None, 1)                 5         \n",
            "=================================================================\n",
            "Total params: 1,945\n",
            "Trainable params: 1,945\n",
            "Non-trainable params: 0\n",
            "_________________________________________________________________\n"
          ],
          "name": "stdout"
        }
      ]
    },
    {
      "cell_type": "markdown",
      "metadata": {
        "id": "2sMNekDcpv19"
      },
      "source": [
        "##Training"
      ]
    },
    {
      "cell_type": "code",
      "metadata": {
        "colab": {
          "base_uri": "https://localhost:8080/"
        },
        "id": "oRdQCQMmpwmn",
        "outputId": "aba149ca-66ed-4294-c950-8754b1a79f7e"
      },
      "source": [
        "model_history = clf.fit(x_train,y_train,validation_split=0.2,batch_size=1000,epochs=50,workers = -1)"
      ],
      "execution_count": 106,
      "outputs": [
        {
          "output_type": "stream",
          "text": [
            "Epoch 1/50\n",
            "45/45 [==============================] - 1s 7ms/step - loss: 0.7179 - accuracy: 0.5292 - val_loss: 0.6388 - val_accuracy: 0.6763\n",
            "Epoch 2/50\n",
            "45/45 [==============================] - 0s 4ms/step - loss: 0.6272 - accuracy: 0.6898 - val_loss: 0.5818 - val_accuracy: 0.7164\n",
            "Epoch 3/50\n",
            "45/45 [==============================] - 0s 5ms/step - loss: 0.5935 - accuracy: 0.7137 - val_loss: 0.5718 - val_accuracy: 0.7268\n",
            "Epoch 4/50\n",
            "45/45 [==============================] - 0s 4ms/step - loss: 0.5778 - accuracy: 0.7212 - val_loss: 0.5648 - val_accuracy: 0.7290\n",
            "Epoch 5/50\n",
            "45/45 [==============================] - 0s 4ms/step - loss: 0.5671 - accuracy: 0.7253 - val_loss: 0.5585 - val_accuracy: 0.7317\n",
            "Epoch 6/50\n",
            "45/45 [==============================] - 0s 4ms/step - loss: 0.5650 - accuracy: 0.7233 - val_loss: 0.5543 - val_accuracy: 0.7348\n",
            "Epoch 7/50\n",
            "45/45 [==============================] - 0s 4ms/step - loss: 0.5597 - accuracy: 0.7247 - val_loss: 0.5520 - val_accuracy: 0.7356\n",
            "Epoch 8/50\n",
            "45/45 [==============================] - 0s 4ms/step - loss: 0.5633 - accuracy: 0.7238 - val_loss: 0.5478 - val_accuracy: 0.7358\n",
            "Epoch 9/50\n",
            "45/45 [==============================] - 0s 4ms/step - loss: 0.5551 - accuracy: 0.7233 - val_loss: 0.5501 - val_accuracy: 0.7378\n",
            "Epoch 10/50\n",
            "45/45 [==============================] - 0s 4ms/step - loss: 0.5558 - accuracy: 0.7245 - val_loss: 0.5452 - val_accuracy: 0.7366\n",
            "Epoch 11/50\n",
            "45/45 [==============================] - 0s 4ms/step - loss: 0.5541 - accuracy: 0.7249 - val_loss: 0.5450 - val_accuracy: 0.7389\n",
            "Epoch 12/50\n",
            "45/45 [==============================] - 0s 5ms/step - loss: 0.5516 - accuracy: 0.7305 - val_loss: 0.5465 - val_accuracy: 0.7390\n",
            "Epoch 13/50\n",
            "45/45 [==============================] - 0s 4ms/step - loss: 0.5487 - accuracy: 0.7308 - val_loss: 0.5465 - val_accuracy: 0.7371\n",
            "Epoch 14/50\n",
            "45/45 [==============================] - 0s 5ms/step - loss: 0.5541 - accuracy: 0.7255 - val_loss: 0.5455 - val_accuracy: 0.7368\n",
            "Epoch 15/50\n",
            "45/45 [==============================] - 0s 4ms/step - loss: 0.5518 - accuracy: 0.7268 - val_loss: 0.5450 - val_accuracy: 0.7399\n",
            "Epoch 16/50\n",
            "45/45 [==============================] - 0s 4ms/step - loss: 0.5495 - accuracy: 0.7297 - val_loss: 0.5441 - val_accuracy: 0.7386\n",
            "Epoch 17/50\n",
            "45/45 [==============================] - 0s 4ms/step - loss: 0.5474 - accuracy: 0.7320 - val_loss: 0.5436 - val_accuracy: 0.7400\n",
            "Epoch 18/50\n",
            "45/45 [==============================] - 0s 5ms/step - loss: 0.5489 - accuracy: 0.7283 - val_loss: 0.5433 - val_accuracy: 0.7387\n",
            "Epoch 19/50\n",
            "45/45 [==============================] - 0s 4ms/step - loss: 0.5476 - accuracy: 0.7302 - val_loss: 0.5434 - val_accuracy: 0.7386\n",
            "Epoch 20/50\n",
            "45/45 [==============================] - 0s 4ms/step - loss: 0.5523 - accuracy: 0.7269 - val_loss: 0.5433 - val_accuracy: 0.7412\n",
            "Epoch 21/50\n",
            "45/45 [==============================] - 0s 4ms/step - loss: 0.5487 - accuracy: 0.7296 - val_loss: 0.5433 - val_accuracy: 0.7388\n",
            "Epoch 22/50\n",
            "45/45 [==============================] - 0s 4ms/step - loss: 0.5438 - accuracy: 0.7361 - val_loss: 0.5427 - val_accuracy: 0.7392\n",
            "Epoch 23/50\n",
            "45/45 [==============================] - 0s 4ms/step - loss: 0.5462 - accuracy: 0.7308 - val_loss: 0.5417 - val_accuracy: 0.7391\n",
            "Epoch 24/50\n",
            "45/45 [==============================] - 0s 4ms/step - loss: 0.5488 - accuracy: 0.7290 - val_loss: 0.5419 - val_accuracy: 0.7399\n",
            "Epoch 25/50\n",
            "45/45 [==============================] - 0s 4ms/step - loss: 0.5478 - accuracy: 0.7303 - val_loss: 0.5413 - val_accuracy: 0.7394\n",
            "Epoch 26/50\n",
            "45/45 [==============================] - 0s 4ms/step - loss: 0.5438 - accuracy: 0.7314 - val_loss: 0.5411 - val_accuracy: 0.7392\n",
            "Epoch 27/50\n",
            "45/45 [==============================] - 0s 4ms/step - loss: 0.5469 - accuracy: 0.7325 - val_loss: 0.5412 - val_accuracy: 0.7392\n",
            "Epoch 28/50\n",
            "45/45 [==============================] - 0s 4ms/step - loss: 0.5458 - accuracy: 0.7315 - val_loss: 0.5413 - val_accuracy: 0.7402\n",
            "Epoch 29/50\n",
            "45/45 [==============================] - 0s 4ms/step - loss: 0.5479 - accuracy: 0.7290 - val_loss: 0.5408 - val_accuracy: 0.7395\n",
            "Epoch 30/50\n",
            "45/45 [==============================] - 0s 4ms/step - loss: 0.5439 - accuracy: 0.7336 - val_loss: 0.5407 - val_accuracy: 0.7399\n",
            "Epoch 31/50\n",
            "45/45 [==============================] - 0s 4ms/step - loss: 0.5470 - accuracy: 0.7315 - val_loss: 0.5404 - val_accuracy: 0.7397\n",
            "Epoch 32/50\n",
            "45/45 [==============================] - 0s 5ms/step - loss: 0.5483 - accuracy: 0.7303 - val_loss: 0.5403 - val_accuracy: 0.7404\n",
            "Epoch 33/50\n",
            "45/45 [==============================] - 0s 4ms/step - loss: 0.5467 - accuracy: 0.7319 - val_loss: 0.5407 - val_accuracy: 0.7401\n",
            "Epoch 34/50\n",
            "45/45 [==============================] - 0s 4ms/step - loss: 0.5463 - accuracy: 0.7310 - val_loss: 0.5406 - val_accuracy: 0.7397\n",
            "Epoch 35/50\n",
            "45/45 [==============================] - 0s 4ms/step - loss: 0.5433 - accuracy: 0.7335 - val_loss: 0.5401 - val_accuracy: 0.7421\n",
            "Epoch 36/50\n",
            "45/45 [==============================] - 0s 4ms/step - loss: 0.5444 - accuracy: 0.7330 - val_loss: 0.5401 - val_accuracy: 0.7408\n",
            "Epoch 37/50\n",
            "45/45 [==============================] - 0s 4ms/step - loss: 0.5473 - accuracy: 0.7304 - val_loss: 0.5406 - val_accuracy: 0.7407\n",
            "Epoch 38/50\n",
            "45/45 [==============================] - 0s 4ms/step - loss: 0.5421 - accuracy: 0.7354 - val_loss: 0.5398 - val_accuracy: 0.7421\n",
            "Epoch 39/50\n",
            "45/45 [==============================] - 0s 4ms/step - loss: 0.5464 - accuracy: 0.7300 - val_loss: 0.5396 - val_accuracy: 0.7413\n",
            "Epoch 40/50\n",
            "45/45 [==============================] - 0s 4ms/step - loss: 0.5421 - accuracy: 0.7343 - val_loss: 0.5395 - val_accuracy: 0.7423\n",
            "Epoch 41/50\n",
            "45/45 [==============================] - 0s 4ms/step - loss: 0.5426 - accuracy: 0.7339 - val_loss: 0.5395 - val_accuracy: 0.7427\n",
            "Epoch 42/50\n",
            "45/45 [==============================] - 0s 4ms/step - loss: 0.5433 - accuracy: 0.7349 - val_loss: 0.5393 - val_accuracy: 0.7419\n",
            "Epoch 43/50\n",
            "45/45 [==============================] - 0s 4ms/step - loss: 0.5468 - accuracy: 0.7309 - val_loss: 0.5428 - val_accuracy: 0.7387\n",
            "Epoch 44/50\n",
            "45/45 [==============================] - 0s 4ms/step - loss: 0.5450 - accuracy: 0.7332 - val_loss: 0.5390 - val_accuracy: 0.7429\n",
            "Epoch 45/50\n",
            "45/45 [==============================] - 0s 4ms/step - loss: 0.5418 - accuracy: 0.7346 - val_loss: 0.5391 - val_accuracy: 0.7427\n",
            "Epoch 46/50\n",
            "45/45 [==============================] - 0s 4ms/step - loss: 0.5456 - accuracy: 0.7306 - val_loss: 0.5389 - val_accuracy: 0.7415\n",
            "Epoch 47/50\n",
            "45/45 [==============================] - 0s 4ms/step - loss: 0.5421 - accuracy: 0.7337 - val_loss: 0.5389 - val_accuracy: 0.7435\n",
            "Epoch 48/50\n",
            "45/45 [==============================] - 0s 4ms/step - loss: 0.5427 - accuracy: 0.7340 - val_loss: 0.5403 - val_accuracy: 0.7410\n",
            "Epoch 49/50\n",
            "45/45 [==============================] - 0s 4ms/step - loss: 0.5467 - accuracy: 0.7297 - val_loss: 0.5391 - val_accuracy: 0.7418\n",
            "Epoch 50/50\n",
            "45/45 [==============================] - 0s 4ms/step - loss: 0.5464 - accuracy: 0.7300 - val_loss: 0.5387 - val_accuracy: 0.7416\n"
          ],
          "name": "stdout"
        }
      ]
    },
    {
      "cell_type": "markdown",
      "metadata": {
        "id": "qKQbG0M0rzTV"
      },
      "source": [
        "##Testing on Test Data"
      ]
    },
    {
      "cell_type": "code",
      "metadata": {
        "id": "HRv3s5yVryu3"
      },
      "source": [
        "y_pred = clf.predict(x_test)"
      ],
      "execution_count": 107,
      "outputs": []
    },
    {
      "cell_type": "code",
      "metadata": {
        "id": "YKRF9bhcr49H"
      },
      "source": [
        "y_pred = y_pred>0.5"
      ],
      "execution_count": 108,
      "outputs": []
    },
    {
      "cell_type": "code",
      "metadata": {
        "id": "4kt_Ap51r7a7"
      },
      "source": [
        "from sklearn.metrics import confusion_matrix"
      ],
      "execution_count": 109,
      "outputs": []
    },
    {
      "cell_type": "code",
      "metadata": {
        "colab": {
          "base_uri": "https://localhost:8080/"
        },
        "id": "ChgoMkixsC3E",
        "outputId": "895b5b91-8a05-4edc-a906-513b49246391"
      },
      "source": [
        "print(confusion_matrix(y_test,y_pred))"
      ],
      "execution_count": 110,
      "outputs": [
        {
          "output_type": "stream",
          "text": [
            "[[5364 1640]\n",
            " [2038 4958]]\n"
          ],
          "name": "stdout"
        }
      ]
    },
    {
      "cell_type": "code",
      "metadata": {
        "id": "RDT9XKHDsGwf"
      },
      "source": [
        "from sklearn.metrics import accuracy_score"
      ],
      "execution_count": 111,
      "outputs": []
    },
    {
      "cell_type": "code",
      "metadata": {
        "id": "EVfG5nDNsNrI"
      },
      "source": [
        "score = accuracy_score(y_test,y_pred)"
      ],
      "execution_count": 112,
      "outputs": []
    },
    {
      "cell_type": "code",
      "metadata": {
        "colab": {
          "base_uri": "https://localhost:8080/"
        },
        "id": "utx-pEFBsQUU",
        "outputId": "fa7da17c-4315-42d5-db13-ed7d36ca9098"
      },
      "source": [
        "print(score)"
      ],
      "execution_count": 113,
      "outputs": [
        {
          "output_type": "stream",
          "text": [
            "0.7372857142857143\n"
          ],
          "name": "stdout"
        }
      ]
    },
    {
      "cell_type": "markdown",
      "metadata": {
        "id": "rKpWWQuztSV_"
      },
      "source": [
        "##Plot Model Performance"
      ]
    },
    {
      "cell_type": "code",
      "metadata": {
        "id": "69ZsM_QctVVr"
      },
      "source": [
        "import matplotlib.pyplot as plt\n",
        "%matplotlib inline"
      ],
      "execution_count": 114,
      "outputs": []
    },
    {
      "cell_type": "code",
      "metadata": {
        "colab": {
          "base_uri": "https://localhost:8080/"
        },
        "id": "MbPW-1BWttoB",
        "outputId": "a8f77b80-494a-496f-90bb-96a0e792057a"
      },
      "source": [
        "print(model_history.history.keys())"
      ],
      "execution_count": 115,
      "outputs": [
        {
          "output_type": "stream",
          "text": [
            "dict_keys(['loss', 'accuracy', 'val_loss', 'val_accuracy'])\n"
          ],
          "name": "stdout"
        }
      ]
    },
    {
      "cell_type": "code",
      "metadata": {
        "colab": {
          "base_uri": "https://localhost:8080/",
          "height": 282
        },
        "id": "-lWbg7zatcmY",
        "outputId": "7a34a442-bce2-4cff-a68b-dc6ad019a9b2"
      },
      "source": [
        "plt.plot(model_history.history[\"loss\"])"
      ],
      "execution_count": 116,
      "outputs": [
        {
          "output_type": "execute_result",
          "data": {
            "text/plain": [
              "[<matplotlib.lines.Line2D at 0x7fe1f31feb90>]"
            ]
          },
          "metadata": {
            "tags": []
          },
          "execution_count": 116
        },
        {
          "output_type": "display_data",
          "data": {
            "image/png": "[encoded data removed]",
            "text/plain": [
              "<Figure size 432x288 with 1 Axes>"
            ]
          },
          "metadata": {
            "tags": [],
            "needs_background": "light"
          }
        }
      ]
    },
    {
      "cell_type": "code",
      "metadata": {
        "colab": {
          "base_uri": "https://localhost:8080/",
          "height": 282
        },
        "id": "5KQwnfiet8tO",
        "outputId": "72cd99a9-4011-4b0d-971f-d5076cf7c528"
      },
      "source": [
        "plt.plot(model_history.history[\"val_loss\"])"
      ],
      "execution_count": 117,
      "outputs": [
        {
          "output_type": "execute_result",
          "data": {
            "text/plain": [
              "[<matplotlib.lines.Line2D at 0x7fe1f41e0510>]"
            ]
          },
          "metadata": {
            "tags": []
          },
          "execution_count": 117
        },
        {
          "output_type": "display_data",
          "data": {
            "image/png": "[encoded data removed]",
            "text/plain": [
              "<Figure size 432x288 with 1 Axes>"
            ]
          },
          "metadata": {
            "tags": [],
            "needs_background": "light"
          }
        }
      ]
    },
    {
      "cell_type": "code",
      "metadata": {
        "id": "ddDnTmsauBSj"
      },
      "source": [
        ""
      ],
      "execution_count": null,
      "outputs": []
    }
  ]
}