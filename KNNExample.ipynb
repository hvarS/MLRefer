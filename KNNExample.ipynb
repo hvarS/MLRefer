{
  "nbformat": 4,
  "nbformat_minor": 0,
  "metadata": {
    "colab": {
      "name": "KNNExample.ipynb",
      "provenance": [],
      "authorship_tag": "ABX9TyPAaO7S8l2hc1d+FkB9I9gp",
      "include_colab_link": true
    },
    "kernelspec": {
      "name": "python3",
      "display_name": "Python 3"
    },
    "language_info": {
      "name": "python"
    }
  },
  "cells": [
    {
      "cell_type": "markdown",
      "metadata": {
        "id": "view-in-github",
        "colab_type": "text"
      },
      "source": [
        "<a href=\"https://colab.research.google.com/github/hvarS/MLRefer/blob/Distance-Based-Regression-and-Classification/KNNExample.ipynb\" target=\"_parent\"><img src=\"https://colab.research.google.com/assets/colab-badge.svg\" alt=\"Open In Colab\"/></a>"
      ]
    },
    {
      "cell_type": "code",
      "metadata": {
        "id": "nziOLfE9syVW"
      },
      "source": [
        "import numpy as np\n",
        "import pandas as pd\n",
        "import seaborn as sns\n",
        "import matplotlib.pyplot as plt\n",
        "%matplotlib inline"
      ],
      "execution_count": 2,
      "outputs": []
    },
    {
      "cell_type": "markdown",
      "metadata": {
        "id": "uI2GXnEWtD8t"
      },
      "source": [
        "The Dataset that I am using is PIMA Diabetes Dataset ( Indian )"
      ]
    },
    {
      "cell_type": "code",
      "metadata": {
        "id": "HSP_Zw_Ps8cF"
      },
      "source": [
        "df = pd.read_csv(\"PimaIndiansDiabetes.csv\")"
      ],
      "execution_count": 4,
      "outputs": []
    },
    {
      "cell_type": "code",
      "metadata": {
        "colab": {
          "base_uri": "https://localhost:8080/"
        },
        "id": "R9GK1aX5ta-2",
        "outputId": "d4bce90d-af02-4662-8a49-ba5a79d20adc"
      },
      "source": [
        "df.columns"
      ],
      "execution_count": 11,
      "outputs": [
        {
          "output_type": "execute_result",
          "data": {
            "text/plain": [
              "Index(['V1', 'V2', 'V3', 'V4', 'V5', 'V6', 'V7', 'V8', 'V9', 'V10', 'V11',\n",
              "       'V12', 'V13', 'V14', 'V15', 'V16', 'V17', 'V18', 'V19', 'V20', 'V21',\n",
              "       'V22', 'V23', 'V24', 'V25', 'V26', 'V27', 'V28', 'V29', 'V30', 'V31',\n",
              "       'V32', 'V33', 'V34', 'Class'],\n",
              "      dtype='object')"
            ]
          },
          "metadata": {
            "tags": []
          },
          "execution_count": 11
        }
      ]
    },
    {
      "cell_type": "markdown",
      "metadata": {
        "id": "M8IILkgDt1pR"
      },
      "source": [
        "###Standardizing the dataset predictors"
      ]
    },
    {
      "cell_type": "code",
      "metadata": {
        "id": "mSeeV57Ytfok"
      },
      "source": [
        "from sklearn.preprocessing import StandardScaler"
      ],
      "execution_count": 12,
      "outputs": []
    },
    {
      "cell_type": "code",
      "metadata": {
        "id": "GIccJRu2uA6Y"
      },
      "source": [
        "scaler = StandardScaler()"
      ],
      "execution_count": 13,
      "outputs": []
    },
    {
      "cell_type": "code",
      "metadata": {
        "colab": {
          "base_uri": "https://localhost:8080/"
        },
        "id": "noIIQkbCuF_W",
        "outputId": "847dad58-7dd6-466d-9800-869348b73d5a"
      },
      "source": [
        "scaler.fit(df.drop('Class',axis = 1))"
      ],
      "execution_count": 14,
      "outputs": [
        {
          "output_type": "execute_result",
          "data": {
            "text/plain": [
              "StandardScaler(copy=True, with_mean=True, with_std=True)"
            ]
          },
          "metadata": {
            "tags": []
          },
          "execution_count": 14
        }
      ]
    },
    {
      "cell_type": "code",
      "metadata": {
        "id": "gTy8N21fuW0t"
      },
      "source": [
        "scaled_features = scaler.transform(df.drop(\"Class\",axis = 1))"
      ],
      "execution_count": 15,
      "outputs": []
    },
    {
      "cell_type": "code",
      "metadata": {
        "id": "AYL-Xq3pugwh"
      },
      "source": [
        "df_with_sfeat = pd.DataFrame(scaled_features,columns = df.columns[:-1])"
      ],
      "execution_count": 17,
      "outputs": []
    },
    {
      "cell_type": "code",
      "metadata": {
        "colab": {
          "base_uri": "https://localhost:8080/",
          "height": 224
        },
        "id": "1SJpJSB5uwlC",
        "outputId": "776b5b90-a77e-45cf-c23f-f2e015572ee1"
      },
      "source": [
        "df_with_sfeat.head()"
      ],
      "execution_count": 18,
      "outputs": [
        {
          "output_type": "execute_result",
          "data": {
            "text/html": [
              "<div>\n",
              "<style scoped>\n",
              "    .dataframe tbody tr th:only-of-type {\n",
              "        vertical-align: middle;\n",
              "    }\n",
              "\n",
              "    .dataframe tbody tr th {\n",
              "        vertical-align: top;\n",
              "    }\n",
              "\n",
              "    .dataframe thead th {\n",
              "        text-align: right;\n",
              "    }\n",
              "</style>\n",
              "<table border=\"1\" class=\"dataframe\">\n",
              "  <thead>\n",
              "    <tr style=\"text-align: right;\">\n",
              "      <th></th>\n",
              "      <th>V1</th>\n",
              "      <th>V2</th>\n",
              "      <th>V3</th>\n",
              "      <th>V4</th>\n",
              "      <th>V5</th>\n",
              "      <th>V6</th>\n",
              "      <th>V7</th>\n",
              "      <th>V8</th>\n",
              "      <th>V9</th>\n",
              "      <th>V10</th>\n",
              "      <th>V11</th>\n",
              "      <th>V12</th>\n",
              "      <th>V13</th>\n",
              "      <th>V14</th>\n",
              "      <th>V15</th>\n",
              "      <th>V16</th>\n",
              "      <th>V17</th>\n",
              "      <th>V18</th>\n",
              "      <th>V19</th>\n",
              "      <th>V20</th>\n",
              "      <th>V21</th>\n",
              "      <th>V22</th>\n",
              "      <th>V23</th>\n",
              "      <th>V24</th>\n",
              "      <th>V25</th>\n",
              "      <th>V26</th>\n",
              "      <th>V27</th>\n",
              "      <th>V28</th>\n",
              "      <th>V29</th>\n",
              "      <th>V30</th>\n",
              "      <th>V31</th>\n",
              "      <th>V32</th>\n",
              "      <th>V33</th>\n",
              "      <th>V34</th>\n",
              "    </tr>\n",
              "  </thead>\n",
              "  <tbody>\n",
              "    <tr>\n",
              "      <th>0</th>\n",
              "      <td>0.348433</td>\n",
              "      <td>0.0</td>\n",
              "      <td>0.712372</td>\n",
              "      <td>-0.234257</td>\n",
              "      <td>0.484208</td>\n",
              "      <td>-0.201735</td>\n",
              "      <td>0.577059</td>\n",
              "      <td>-0.954679</td>\n",
              "      <td>0.964074</td>\n",
              "      <td>-0.297510</td>\n",
              "      <td>0.668655</td>\n",
              "      <td>-0.673107</td>\n",
              "      <td>0.316673</td>\n",
              "      <td>-1.098543</td>\n",
              "      <td>0.400678</td>\n",
              "      <td>-0.990486</td>\n",
              "      <td>0.747985</td>\n",
              "      <td>-0.769681</td>\n",
              "      <td>0.356155</td>\n",
              "      <td>-0.574715</td>\n",
              "      <td>0.382644</td>\n",
              "      <td>-0.589524</td>\n",
              "      <td>0.011585</td>\n",
              "      <td>-0.790129</td>\n",
              "      <td>0.297728</td>\n",
              "      <td>-0.867565</td>\n",
              "      <td>-0.253868</td>\n",
              "      <td>-0.713971</td>\n",
              "      <td>-0.288290</td>\n",
              "      <td>-0.617039</td>\n",
              "      <td>0.122937</td>\n",
              "      <td>-1.055054</td>\n",
              "      <td>-0.312221</td>\n",
              "      <td>-0.999595</td>\n",
              "    </tr>\n",
              "    <tr>\n",
              "      <th>1</th>\n",
              "      <td>0.348433</td>\n",
              "      <td>0.0</td>\n",
              "      <td>0.721648</td>\n",
              "      <td>-0.527811</td>\n",
              "      <td>0.634308</td>\n",
              "      <td>-1.037587</td>\n",
              "      <td>-1.339106</td>\n",
              "      <td>-2.029452</td>\n",
              "      <td>0.964074</td>\n",
              "      <td>-0.469482</td>\n",
              "      <td>0.057860</td>\n",
              "      <td>-1.684781</td>\n",
              "      <td>-0.090908</td>\n",
              "      <td>-1.599628</td>\n",
              "      <td>-1.320774</td>\n",
              "      <td>-2.285870</td>\n",
              "      <td>-0.529798</td>\n",
              "      <td>-1.247351</td>\n",
              "      <td>-0.045252</td>\n",
              "      <td>-1.882900</td>\n",
              "      <td>-0.768862</td>\n",
              "      <td>-0.891518</td>\n",
              "      <td>-0.900696</td>\n",
              "      <td>-0.569455</td>\n",
              "      <td>-1.037790</td>\n",
              "      <td>-0.383054</td>\n",
              "      <td>-1.447849</td>\n",
              "      <td>-0.208419</td>\n",
              "      <td>-0.989185</td>\n",
              "      <td>-0.173530</td>\n",
              "      <td>-0.909063</td>\n",
              "      <td>-0.115213</td>\n",
              "      <td>-0.932605</td>\n",
              "      <td>-0.083286</td>\n",
              "    </tr>\n",
              "    <tr>\n",
              "      <th>2</th>\n",
              "      <td>0.348433</td>\n",
              "      <td>0.0</td>\n",
              "      <td>0.721648</td>\n",
              "      <td>-0.176998</td>\n",
              "      <td>0.768477</td>\n",
              "      <td>-0.241309</td>\n",
              "      <td>0.914531</td>\n",
              "      <td>-0.461494</td>\n",
              "      <td>0.746139</td>\n",
              "      <td>-0.350536</td>\n",
              "      <td>0.452533</td>\n",
              "      <td>-0.205582</td>\n",
              "      <td>0.730129</td>\n",
              "      <td>-0.172297</td>\n",
              "      <td>0.309483</td>\n",
              "      <td>-0.148874</td>\n",
              "      <td>0.738571</td>\n",
              "      <td>-0.267760</td>\n",
              "      <td>0.633158</td>\n",
              "      <td>-0.118408</td>\n",
              "      <td>0.611165</td>\n",
              "      <td>-0.547547</td>\n",
              "      <td>0.118384</td>\n",
              "      <td>-0.120018</td>\n",
              "      <td>0.310141</td>\n",
              "      <td>-0.651896</td>\n",
              "      <td>0.093506</td>\n",
              "      <td>-0.276586</td>\n",
              "      <td>0.091389</td>\n",
              "      <td>-0.287320</td>\n",
              "      <td>0.441318</td>\n",
              "      <td>-0.464092</td>\n",
              "      <td>0.404443</td>\n",
              "      <td>-0.848591</td>\n",
              "    </tr>\n",
              "    <tr>\n",
              "      <th>3</th>\n",
              "      <td>0.348433</td>\n",
              "      <td>0.0</td>\n",
              "      <td>0.721648</td>\n",
              "      <td>-1.125172</td>\n",
              "      <td>0.768477</td>\n",
              "      <td>1.921340</td>\n",
              "      <td>0.329433</td>\n",
              "      <td>-2.152585</td>\n",
              "      <td>-1.010873</td>\n",
              "      <td>-0.375331</td>\n",
              "      <td>-0.846256</td>\n",
              "      <td>-0.313776</td>\n",
              "      <td>-0.645102</td>\n",
              "      <td>-0.189033</td>\n",
              "      <td>-2.061919</td>\n",
              "      <td>0.161732</td>\n",
              "      <td>0.257626</td>\n",
              "      <td>-0.785566</td>\n",
              "      <td>-2.173722</td>\n",
              "      <td>-1.004455</td>\n",
              "      <td>-1.701995</td>\n",
              "      <td>1.916606</td>\n",
              "      <td>-0.601213</td>\n",
              "      <td>0.108990</td>\n",
              "      <td>1.045426</td>\n",
              "      <td>1.926340</td>\n",
              "      <td>-0.049490</td>\n",
              "      <td>1.947300</td>\n",
              "      <td>1.080843</td>\n",
              "      <td>-0.341218</td>\n",
              "      <td>-0.167687</td>\n",
              "      <td>1.957315</td>\n",
              "      <td>-1.289826</td>\n",
              "      <td>2.107299</td>\n",
              "    </tr>\n",
              "    <tr>\n",
              "      <th>4</th>\n",
              "      <td>0.348433</td>\n",
              "      <td>0.0</td>\n",
              "      <td>0.721648</td>\n",
              "      <td>-0.155129</td>\n",
              "      <td>0.655594</td>\n",
              "      <td>-0.109918</td>\n",
              "      <td>0.754068</td>\n",
              "      <td>-0.676741</td>\n",
              "      <td>0.512838</td>\n",
              "      <td>-0.714742</td>\n",
              "      <td>0.092053</td>\n",
              "      <td>-0.724108</td>\n",
              "      <td>0.262818</td>\n",
              "      <td>-0.203441</td>\n",
              "      <td>-0.000321</td>\n",
              "      <td>-0.755275</td>\n",
              "      <td>0.238927</td>\n",
              "      <td>-0.431774</td>\n",
              "      <td>0.146601</td>\n",
              "      <td>-0.297308</td>\n",
              "      <td>-0.454670</td>\n",
              "      <td>-0.703569</td>\n",
              "      <td>-0.562915</td>\n",
              "      <td>-0.894969</td>\n",
              "      <td>-0.628910</td>\n",
              "      <td>-1.143025</td>\n",
              "      <td>-0.792950</td>\n",
              "      <td>-0.842112</td>\n",
              "      <td>-0.615818</td>\n",
              "      <td>-1.171144</td>\n",
              "      <td>-0.717726</td>\n",
              "      <td>-1.154227</td>\n",
              "      <td>-0.757673</td>\n",
              "      <td>-1.435736</td>\n",
              "    </tr>\n",
              "  </tbody>\n",
              "</table>\n",
              "</div>"
            ],
            "text/plain": [
              "         V1   V2        V3        V4  ...       V31       V32       V33       V34\n",
              "0  0.348433  0.0  0.712372 -0.234257  ...  0.122937 -1.055054 -0.312221 -0.999595\n",
              "1  0.348433  0.0  0.721648 -0.527811  ... -0.909063 -0.115213 -0.932605 -0.083286\n",
              "2  0.348433  0.0  0.721648 -0.176998  ...  0.441318 -0.464092  0.404443 -0.848591\n",
              "3  0.348433  0.0  0.721648 -1.125172  ... -0.167687  1.957315 -1.289826  2.107299\n",
              "4  0.348433  0.0  0.721648 -0.155129  ... -0.717726 -1.154227 -0.757673 -1.435736\n",
              "\n",
              "[5 rows x 34 columns]"
            ]
          },
          "metadata": {
            "tags": []
          },
          "execution_count": 18
        }
      ]
    },
    {
      "cell_type": "markdown",
      "metadata": {
        "id": "HfZLMirqu_f7"
      },
      "source": [
        "###Train Test Split"
      ]
    },
    {
      "cell_type": "code",
      "metadata": {
        "id": "cpnJiPXWvBZJ"
      },
      "source": [
        "from sklearn.model_selection import train_test_split"
      ],
      "execution_count": 19,
      "outputs": []
    },
    {
      "cell_type": "code",
      "metadata": {
        "id": "Q8ixYhDmvHvT"
      },
      "source": [
        "x_train,x_test,y_train,y_test = train_test_split(scaled_features,df[\"Class\"],test_size = 0.3)"
      ],
      "execution_count": 20,
      "outputs": []
    },
    {
      "cell_type": "markdown",
      "metadata": {
        "id": "Q23SuhpKvjx3"
      },
      "source": [
        "###Use KNN"
      ]
    },
    {
      "cell_type": "code",
      "metadata": {
        "id": "LWPCS8lAvlPh"
      },
      "source": [
        "from sklearn.neighbors import KNeighborsClassifier"
      ],
      "execution_count": 21,
      "outputs": []
    },
    {
      "cell_type": "code",
      "metadata": {
        "id": "uke_Bkesvrjd"
      },
      "source": [
        "knn = KNeighborsClassifier(n_neighbors=1)"
      ],
      "execution_count": 22,
      "outputs": []
    },
    {
      "cell_type": "code",
      "metadata": {
        "colab": {
          "base_uri": "https://localhost:8080/"
        },
        "id": "7cDczvdnvyLs",
        "outputId": "9e926452-f426-49a8-9a08-07791cf7e1fd"
      },
      "source": [
        "knn.fit(x_train,y_train)"
      ],
      "execution_count": 23,
      "outputs": [
        {
          "output_type": "execute_result",
          "data": {
            "text/plain": [
              "KNeighborsClassifier(algorithm='auto', leaf_size=30, metric='minkowski',\n",
              "                     metric_params=None, n_jobs=None, n_neighbors=1, p=2,\n",
              "                     weights='uniform')"
            ]
          },
          "metadata": {
            "tags": []
          },
          "execution_count": 23
        }
      ]
    },
    {
      "cell_type": "code",
      "metadata": {
        "id": "aP2uM7jgv7xK"
      },
      "source": [
        "pred = knn.predict(x_test)"
      ],
      "execution_count": 24,
      "outputs": []
    },
    {
      "cell_type": "markdown",
      "metadata": {
        "id": "NRhlweRxwFAn"
      },
      "source": [
        "###Checking Metrics to understand the performance"
      ]
    },
    {
      "cell_type": "code",
      "metadata": {
        "id": "BnnY5fT8wKHC"
      },
      "source": [
        "from sklearn.metrics import classification_report,confusion_matrix"
      ],
      "execution_count": 25,
      "outputs": []
    },
    {
      "cell_type": "code",
      "metadata": {
        "colab": {
          "base_uri": "https://localhost:8080/"
        },
        "id": "fB69IJpkwbnf",
        "outputId": "d9cf140b-4a1f-47c1-b8c9-effecdd39e15"
      },
      "source": [
        "print(confusion_matrix(y_test,pred))"
      ],
      "execution_count": 26,
      "outputs": [
        {
          "output_type": "stream",
          "text": [
            "[[27 12]\n",
            " [ 1 66]]\n"
          ],
          "name": "stdout"
        }
      ]
    },
    {
      "cell_type": "code",
      "metadata": {
        "colab": {
          "base_uri": "https://localhost:8080/"
        },
        "id": "odEy8wCVwg4L",
        "outputId": "8e7955d5-ec2d-4145-8098-b596f7c6d996"
      },
      "source": [
        "print(classification_report(y_test,pred))"
      ],
      "execution_count": 27,
      "outputs": [
        {
          "output_type": "stream",
          "text": [
            "              precision    recall  f1-score   support\n",
            "\n",
            "           0       0.96      0.69      0.81        39\n",
            "           1       0.85      0.99      0.91        67\n",
            "\n",
            "    accuracy                           0.88       106\n",
            "   macro avg       0.91      0.84      0.86       106\n",
            "weighted avg       0.89      0.88      0.87       106\n",
            "\n"
          ],
          "name": "stdout"
        }
      ]
    },
    {
      "cell_type": "code",
      "metadata": {
        "id": "LgtClJHGwnQ9"
      },
      "source": [
        ""
      ],
      "execution_count": null,
      "outputs": []
    },
    {
      "cell_type": "markdown",
      "metadata": {
        "id": "rbJLDl5Xwx25"
      },
      "source": [
        "###Choosing the ideal k - value "
      ]
    },
    {
      "cell_type": "code",
      "metadata": {
        "id": "MfQy0VMY1a6Q"
      },
      "source": [
        "from sklearn.model_selection import cross_val_score"
      ],
      "execution_count": 31,
      "outputs": []
    },
    {
      "cell_type": "code",
      "metadata": {
        "id": "PsZqxNPv1PtB"
      },
      "source": [
        "accuracy_scores = []\n",
        "for i in range(1,40):\n",
        "  knn = KNeighborsClassifier(n_neighbors=i)\n",
        "  a_score = cross_val_score(knn,scaled_features,df[\"Class\"],cv = 10)\n",
        "  accuracy_scores.append(np.mean(a_score))"
      ],
      "execution_count": 34,
      "outputs": []
    },
    {
      "cell_type": "code",
      "metadata": {
        "id": "9hJC42uPw01J"
      },
      "source": [
        "error_rates = []\n",
        "for i in range(1,40):\n",
        "  knn = KNeighborsClassifier(n_neighbors=i)\n",
        "  knn.fit(x_train,y_train)\n",
        "  pred_i = knn.predict(x_test)\n",
        "  error_rates.append(np.mean(pred_i != y_test))"
      ],
      "execution_count": 28,
      "outputs": []
    },
    {
      "cell_type": "code",
      "metadata": {
        "colab": {
          "base_uri": "https://localhost:8080/",
          "height": 421
        },
        "id": "TJn_bVTk19-5",
        "outputId": "5fceda7d-b89d-424d-f310-5b9331667b5b"
      },
      "source": [
        "plt.figure(figsize=(10,6))\n",
        "plt.plot(range(1,40),accuracy_scores,color = \"blue\",linestyle = \"dashed\",marker = \"o\",markerfacecolor = \"red\",markersize = 10)\n",
        "plt.title(\"Accuracy Scores v/s k \")\n",
        "plt.xlabel(\"k\")\n",
        "plt.ylabel(\"Accuracy Scores\")"
      ],
      "execution_count": 35,
      "outputs": [
        {
          "output_type": "execute_result",
          "data": {
            "text/plain": [
              "Text(0, 0.5, 'Accuracy Scores')"
            ]
          },
          "metadata": {
            "tags": []
          },
          "execution_count": 35
        },
        {
          "output_type": "display_data",
          "data": {
            "image/png": "[encoded data removed]",
            "text/plain": [
              "<Figure size 720x432 with 1 Axes>"
            ]
          },
          "metadata": {
            "tags": [],
            "needs_background": "light"
          }
        }
      ]
    },
    {
      "cell_type": "code",
      "metadata": {
        "colab": {
          "base_uri": "https://localhost:8080/",
          "height": 421
        },
        "id": "mYy4fe-exd-i",
        "outputId": "9038deed-83df-4689-e17b-68ef4425614e"
      },
      "source": [
        "plt.figure(figsize=(10,6))\n",
        "plt.plot(range(1,40),error_rates,color = \"blue\",linestyle = \"dashed\",marker = \"o\",markerfacecolor = \"red\",markersize = 10)\n",
        "plt.title(\"Error Rates v/s k \")\n",
        "plt.xlabel(\"k\")\n",
        "plt.ylabel(\"Error Rate\")"
      ],
      "execution_count": 29,
      "outputs": [
        {
          "output_type": "execute_result",
          "data": {
            "text/plain": [
              "Text(0, 0.5, 'Error Rate')"
            ]
          },
          "metadata": {
            "tags": []
          },
          "execution_count": 29
        },
        {
          "output_type": "display_data",
          "data": {
            "image/png": "[encoded data removed]",
            "text/plain": [
              "<Figure size 720x432 with 1 Axes>"
            ]
          },
          "metadata": {
            "tags": [],
            "needs_background": "light"
          }
        }
      ]
    },
    {
      "cell_type": "markdown",
      "metadata": {
        "id": "1K4aq5Ftyl7A"
      },
      "source": [
        "Using the best parameters as obtained above for k = 2"
      ]
    },
    {
      "cell_type": "code",
      "metadata": {
        "colab": {
          "base_uri": "https://localhost:8080/"
        },
        "id": "hqtam-mDyS4a",
        "outputId": "69cd080a-0524-4ae2-8557-b229f5edb4e4"
      },
      "source": [
        "  knn = KNeighborsClassifier(n_neighbors=2)\n",
        "  knn.fit(x_train,y_train)\n",
        "  pred = knn.predict(x_test)\n",
        "  print(confusion_matrix(y_test,pred))\n",
        "  print(classification_report(y_test,pred))"
      ],
      "execution_count": 30,
      "outputs": [
        {
          "output_type": "stream",
          "text": [
            "[[29 10]\n",
            " [ 1 66]]\n",
            "              precision    recall  f1-score   support\n",
            "\n",
            "           0       0.97      0.74      0.84        39\n",
            "           1       0.87      0.99      0.92        67\n",
            "\n",
            "    accuracy                           0.90       106\n",
            "   macro avg       0.92      0.86      0.88       106\n",
            "weighted avg       0.90      0.90      0.89       106\n",
            "\n"
          ],
          "name": "stdout"
        }
      ]
    },
    {
      "cell_type": "code",
      "metadata": {
        "id": "vS1-PeJ8y4-7"
      },
      "source": [
        ""
      ],
      "execution_count": null,
      "outputs": []
    }
  ]
}