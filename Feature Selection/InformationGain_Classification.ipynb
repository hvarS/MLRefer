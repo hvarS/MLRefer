{
  "nbformat": 4,
  "nbformat_minor": 0,
  "metadata": {
    "colab": {
      "name": "InformationGain_Classification.ipynb",
      "provenance": [],
      "collapsed_sections": [
        "EKXyv9kTBvvF",
        "Xsr-4e3VCIFr",
        "kUiFyHy1Dedn",
        "l1kmHMJvEqiJ"
      ]
    },
    "kernelspec": {
      "name": "python3",
      "display_name": "Python 3"
    },
    "language_info": {
      "name": "python"
    }
  },
  "cells": [
    {
      "cell_type": "code",
      "metadata": {
        "id": "wO6AC1vCJKFZ"
      },
      "source": [
        "from sklearn.datasets import load_wine"
      ],
      "execution_count": 1,
      "outputs": []
    },
    {
      "cell_type": "code",
      "metadata": {
        "id": "X9EWmu51JpQv"
      },
      "source": [
        "import pandas as pd\n",
        "import numpy as np"
      ],
      "execution_count": 2,
      "outputs": []
    },
    {
      "cell_type": "code",
      "metadata": {
        "id": "nlGJJd_UJVf6"
      },
      "source": [
        "data = load_wine()"
      ],
      "execution_count": 3,
      "outputs": []
    },
    {
      "cell_type": "code",
      "metadata": {
        "id": "r0aOakY2JcKC"
      },
      "source": [
        "cols = data.feature_names"
      ],
      "execution_count": 4,
      "outputs": []
    },
    {
      "cell_type": "code",
      "metadata": {
        "id": "4BhO3o8bJm87"
      },
      "source": [
        "df = pd.DataFrame(data.data,columns = cols)"
      ],
      "execution_count": 5,
      "outputs": []
    },
    {
      "cell_type": "code",
      "metadata": {
        "id": "dLB-PY4xJ1Yw"
      },
      "source": [
        "cls = data.target"
      ],
      "execution_count": 6,
      "outputs": []
    },
    {
      "cell_type": "code",
      "metadata": {
        "id": "1rS4y3ZkKDRi"
      },
      "source": [
        "df[\"class\"] = cls"
      ],
      "execution_count": 7,
      "outputs": []
    },
    {
      "cell_type": "code",
      "metadata": {
        "colab": {
          "base_uri": "https://localhost:8080/",
          "height": 224
        },
        "id": "ZV1DajaVKOtN",
        "outputId": "2ee19ff3-e875-4944-bab4-f781d67fd8ec"
      },
      "source": [
        "df.head()"
      ],
      "execution_count": 8,
      "outputs": [
        {
          "output_type": "execute_result",
          "data": {
            "text/html": [
              "<div>\n",
              "<style scoped>\n",
              "    .dataframe tbody tr th:only-of-type {\n",
              "        vertical-align: middle;\n",
              "    }\n",
              "\n",
              "    .dataframe tbody tr th {\n",
              "        vertical-align: top;\n",
              "    }\n",
              "\n",
              "    .dataframe thead th {\n",
              "        text-align: right;\n",
              "    }\n",
              "</style>\n",
              "<table border=\"1\" class=\"dataframe\">\n",
              "  <thead>\n",
              "    <tr style=\"text-align: right;\">\n",
              "      <th></th>\n",
              "      <th>alcohol</th>\n",
              "      <th>malic_acid</th>\n",
              "      <th>ash</th>\n",
              "      <th>alcalinity_of_ash</th>\n",
              "      <th>magnesium</th>\n",
              "      <th>total_phenols</th>\n",
              "      <th>flavanoids</th>\n",
              "      <th>nonflavanoid_phenols</th>\n",
              "      <th>proanthocyanins</th>\n",
              "      <th>color_intensity</th>\n",
              "      <th>hue</th>\n",
              "      <th>od280/od315_of_diluted_wines</th>\n",
              "      <th>proline</th>\n",
              "      <th>class</th>\n",
              "    </tr>\n",
              "  </thead>\n",
              "  <tbody>\n",
              "    <tr>\n",
              "      <th>0</th>\n",
              "      <td>14.23</td>\n",
              "      <td>1.71</td>\n",
              "      <td>2.43</td>\n",
              "      <td>15.6</td>\n",
              "      <td>127.0</td>\n",
              "      <td>2.80</td>\n",
              "      <td>3.06</td>\n",
              "      <td>0.28</td>\n",
              "      <td>2.29</td>\n",
              "      <td>5.64</td>\n",
              "      <td>1.04</td>\n",
              "      <td>3.92</td>\n",
              "      <td>1065.0</td>\n",
              "      <td>0</td>\n",
              "    </tr>\n",
              "    <tr>\n",
              "      <th>1</th>\n",
              "      <td>13.20</td>\n",
              "      <td>1.78</td>\n",
              "      <td>2.14</td>\n",
              "      <td>11.2</td>\n",
              "      <td>100.0</td>\n",
              "      <td>2.65</td>\n",
              "      <td>2.76</td>\n",
              "      <td>0.26</td>\n",
              "      <td>1.28</td>\n",
              "      <td>4.38</td>\n",
              "      <td>1.05</td>\n",
              "      <td>3.40</td>\n",
              "      <td>1050.0</td>\n",
              "      <td>0</td>\n",
              "    </tr>\n",
              "    <tr>\n",
              "      <th>2</th>\n",
              "      <td>13.16</td>\n",
              "      <td>2.36</td>\n",
              "      <td>2.67</td>\n",
              "      <td>18.6</td>\n",
              "      <td>101.0</td>\n",
              "      <td>2.80</td>\n",
              "      <td>3.24</td>\n",
              "      <td>0.30</td>\n",
              "      <td>2.81</td>\n",
              "      <td>5.68</td>\n",
              "      <td>1.03</td>\n",
              "      <td>3.17</td>\n",
              "      <td>1185.0</td>\n",
              "      <td>0</td>\n",
              "    </tr>\n",
              "    <tr>\n",
              "      <th>3</th>\n",
              "      <td>14.37</td>\n",
              "      <td>1.95</td>\n",
              "      <td>2.50</td>\n",
              "      <td>16.8</td>\n",
              "      <td>113.0</td>\n",
              "      <td>3.85</td>\n",
              "      <td>3.49</td>\n",
              "      <td>0.24</td>\n",
              "      <td>2.18</td>\n",
              "      <td>7.80</td>\n",
              "      <td>0.86</td>\n",
              "      <td>3.45</td>\n",
              "      <td>1480.0</td>\n",
              "      <td>0</td>\n",
              "    </tr>\n",
              "    <tr>\n",
              "      <th>4</th>\n",
              "      <td>13.24</td>\n",
              "      <td>2.59</td>\n",
              "      <td>2.87</td>\n",
              "      <td>21.0</td>\n",
              "      <td>118.0</td>\n",
              "      <td>2.80</td>\n",
              "      <td>2.69</td>\n",
              "      <td>0.39</td>\n",
              "      <td>1.82</td>\n",
              "      <td>4.32</td>\n",
              "      <td>1.04</td>\n",
              "      <td>2.93</td>\n",
              "      <td>735.0</td>\n",
              "      <td>0</td>\n",
              "    </tr>\n",
              "  </tbody>\n",
              "</table>\n",
              "</div>"
            ],
            "text/plain": [
              "   alcohol  malic_acid   ash  ...  od280/od315_of_diluted_wines  proline  class\n",
              "0    14.23        1.71  2.43  ...                          3.92   1065.0      0\n",
              "1    13.20        1.78  2.14  ...                          3.40   1050.0      0\n",
              "2    13.16        2.36  2.67  ...                          3.17   1185.0      0\n",
              "3    14.37        1.95  2.50  ...                          3.45   1480.0      0\n",
              "4    13.24        2.59  2.87  ...                          2.93    735.0      0\n",
              "\n",
              "[5 rows x 14 columns]"
            ]
          },
          "metadata": {
            "tags": []
          },
          "execution_count": 8
        }
      ]
    },
    {
      "cell_type": "code",
      "metadata": {
        "colab": {
          "base_uri": "https://localhost:8080/"
        },
        "id": "eVEhjDIhKQFY",
        "outputId": "7349ce9a-5b94-467b-ecda-62550b3ebffb"
      },
      "source": [
        "df.isnull().mean()"
      ],
      "execution_count": 9,
      "outputs": [
        {
          "output_type": "execute_result",
          "data": {
            "text/plain": [
              "alcohol                         0.0\n",
              "malic_acid                      0.0\n",
              "ash                             0.0\n",
              "alcalinity_of_ash               0.0\n",
              "magnesium                       0.0\n",
              "total_phenols                   0.0\n",
              "flavanoids                      0.0\n",
              "nonflavanoid_phenols            0.0\n",
              "proanthocyanins                 0.0\n",
              "color_intensity                 0.0\n",
              "hue                             0.0\n",
              "od280/od315_of_diluted_wines    0.0\n",
              "proline                         0.0\n",
              "class                           0.0\n",
              "dtype: float64"
            ]
          },
          "metadata": {
            "tags": []
          },
          "execution_count": 9
        }
      ]
    },
    {
      "cell_type": "code",
      "metadata": {
        "id": "6OG5nlefKcyb"
      },
      "source": [
        "from sklearn.model_selection import train_test_split\n",
        "x_train,x_test,y_train,y_test = train_test_split(df.drop([\"class\"],axis = 1),df[\"class\"],test_size = 0.25)"
      ],
      "execution_count": 10,
      "outputs": []
    },
    {
      "cell_type": "code",
      "metadata": {
        "colab": {
          "base_uri": "https://localhost:8080/",
          "height": 224
        },
        "id": "Q50kEce3K7bI",
        "outputId": "d347ddbb-6ae8-4c23-e35d-af22519fda95"
      },
      "source": [
        "x_train.head()"
      ],
      "execution_count": 11,
      "outputs": [
        {
          "output_type": "execute_result",
          "data": {
            "text/html": [
              "<div>\n",
              "<style scoped>\n",
              "    .dataframe tbody tr th:only-of-type {\n",
              "        vertical-align: middle;\n",
              "    }\n",
              "\n",
              "    .dataframe tbody tr th {\n",
              "        vertical-align: top;\n",
              "    }\n",
              "\n",
              "    .dataframe thead th {\n",
              "        text-align: right;\n",
              "    }\n",
              "</style>\n",
              "<table border=\"1\" class=\"dataframe\">\n",
              "  <thead>\n",
              "    <tr style=\"text-align: right;\">\n",
              "      <th></th>\n",
              "      <th>alcohol</th>\n",
              "      <th>malic_acid</th>\n",
              "      <th>ash</th>\n",
              "      <th>alcalinity_of_ash</th>\n",
              "      <th>magnesium</th>\n",
              "      <th>total_phenols</th>\n",
              "      <th>flavanoids</th>\n",
              "      <th>nonflavanoid_phenols</th>\n",
              "      <th>proanthocyanins</th>\n",
              "      <th>color_intensity</th>\n",
              "      <th>hue</th>\n",
              "      <th>od280/od315_of_diluted_wines</th>\n",
              "      <th>proline</th>\n",
              "    </tr>\n",
              "  </thead>\n",
              "  <tbody>\n",
              "    <tr>\n",
              "      <th>40</th>\n",
              "      <td>13.56</td>\n",
              "      <td>1.71</td>\n",
              "      <td>2.31</td>\n",
              "      <td>16.2</td>\n",
              "      <td>117.0</td>\n",
              "      <td>3.15</td>\n",
              "      <td>3.29</td>\n",
              "      <td>0.34</td>\n",
              "      <td>2.34</td>\n",
              "      <td>6.13</td>\n",
              "      <td>0.95</td>\n",
              "      <td>3.38</td>\n",
              "      <td>795.0</td>\n",
              "    </tr>\n",
              "    <tr>\n",
              "      <th>146</th>\n",
              "      <td>13.88</td>\n",
              "      <td>5.04</td>\n",
              "      <td>2.23</td>\n",
              "      <td>20.0</td>\n",
              "      <td>80.0</td>\n",
              "      <td>0.98</td>\n",
              "      <td>0.34</td>\n",
              "      <td>0.40</td>\n",
              "      <td>0.68</td>\n",
              "      <td>4.90</td>\n",
              "      <td>0.58</td>\n",
              "      <td>1.33</td>\n",
              "      <td>415.0</td>\n",
              "    </tr>\n",
              "    <tr>\n",
              "      <th>47</th>\n",
              "      <td>13.90</td>\n",
              "      <td>1.68</td>\n",
              "      <td>2.12</td>\n",
              "      <td>16.0</td>\n",
              "      <td>101.0</td>\n",
              "      <td>3.10</td>\n",
              "      <td>3.39</td>\n",
              "      <td>0.21</td>\n",
              "      <td>2.14</td>\n",
              "      <td>6.10</td>\n",
              "      <td>0.91</td>\n",
              "      <td>3.33</td>\n",
              "      <td>985.0</td>\n",
              "    </tr>\n",
              "    <tr>\n",
              "      <th>90</th>\n",
              "      <td>12.08</td>\n",
              "      <td>1.83</td>\n",
              "      <td>2.32</td>\n",
              "      <td>18.5</td>\n",
              "      <td>81.0</td>\n",
              "      <td>1.60</td>\n",
              "      <td>1.50</td>\n",
              "      <td>0.52</td>\n",
              "      <td>1.64</td>\n",
              "      <td>2.40</td>\n",
              "      <td>1.08</td>\n",
              "      <td>2.27</td>\n",
              "      <td>480.0</td>\n",
              "    </tr>\n",
              "    <tr>\n",
              "      <th>109</th>\n",
              "      <td>11.61</td>\n",
              "      <td>1.35</td>\n",
              "      <td>2.70</td>\n",
              "      <td>20.0</td>\n",
              "      <td>94.0</td>\n",
              "      <td>2.74</td>\n",
              "      <td>2.92</td>\n",
              "      <td>0.29</td>\n",
              "      <td>2.49</td>\n",
              "      <td>2.65</td>\n",
              "      <td>0.96</td>\n",
              "      <td>3.26</td>\n",
              "      <td>680.0</td>\n",
              "    </tr>\n",
              "  </tbody>\n",
              "</table>\n",
              "</div>"
            ],
            "text/plain": [
              "     alcohol  malic_acid   ash  ...   hue  od280/od315_of_diluted_wines  proline\n",
              "40     13.56        1.71  2.31  ...  0.95                          3.38    795.0\n",
              "146    13.88        5.04  2.23  ...  0.58                          1.33    415.0\n",
              "47     13.90        1.68  2.12  ...  0.91                          3.33    985.0\n",
              "90     12.08        1.83  2.32  ...  1.08                          2.27    480.0\n",
              "109    11.61        1.35  2.70  ...  0.96                          3.26    680.0\n",
              "\n",
              "[5 rows x 13 columns]"
            ]
          },
          "metadata": {
            "tags": []
          },
          "execution_count": 11
        }
      ]
    },
    {
      "cell_type": "markdown",
      "metadata": {
        "id": "-aZxnr-bLC0G"
      },
      "source": [
        "##Mutual Information Classification"
      ]
    },
    {
      "cell_type": "code",
      "metadata": {
        "id": "u02uMY2CLGR9"
      },
      "source": [
        "from sklearn.feature_selection import mutual_info_classif"
      ],
      "execution_count": 12,
      "outputs": []
    },
    {
      "cell_type": "code",
      "metadata": {
        "id": "XS3vR9_nLOBF"
      },
      "source": [
        "mic = mutual_info_classif(x_train,y_train)"
      ],
      "execution_count": 13,
      "outputs": []
    },
    {
      "cell_type": "code",
      "metadata": {
        "colab": {
          "base_uri": "https://localhost:8080/"
        },
        "id": "Mq65DEoBLU_X",
        "outputId": "1e93bfa7-b0ad-47df-c60f-655eb3093eb1"
      },
      "source": [
        "mic"
      ],
      "execution_count": 14,
      "outputs": [
        {
          "output_type": "execute_result",
          "data": {
            "text/plain": [
              "array([0.43193551, 0.2482175 , 0.05008083, 0.27699785, 0.23663927,\n",
              "       0.45290061, 0.69366839, 0.12330587, 0.26506777, 0.58097132,\n",
              "       0.43637853, 0.45928258, 0.54938444])"
            ]
          },
          "metadata": {
            "tags": []
          },
          "execution_count": 14
        }
      ]
    },
    {
      "cell_type": "markdown",
      "metadata": {
        "id": "Bhy8BCZGLoFb"
      },
      "source": [
        "###Finding the most important features"
      ]
    },
    {
      "cell_type": "code",
      "metadata": {
        "colab": {
          "base_uri": "https://localhost:8080/"
        },
        "id": "abR2f5OKLWsf",
        "outputId": "02838974-f12e-4ce4-c468-fa9e19c53f2b"
      },
      "source": [
        "mic = pd.Series(mic)\n",
        "mic.index = x_train.columns\n",
        "mic.sort_values(ascending = False)"
      ],
      "execution_count": 15,
      "outputs": [
        {
          "output_type": "execute_result",
          "data": {
            "text/plain": [
              "flavanoids                      0.693668\n",
              "color_intensity                 0.580971\n",
              "proline                         0.549384\n",
              "od280/od315_of_diluted_wines    0.459283\n",
              "total_phenols                   0.452901\n",
              "hue                             0.436379\n",
              "alcohol                         0.431936\n",
              "alcalinity_of_ash               0.276998\n",
              "proanthocyanins                 0.265068\n",
              "malic_acid                      0.248217\n",
              "magnesium                       0.236639\n",
              "nonflavanoid_phenols            0.123306\n",
              "ash                             0.050081\n",
              "dtype: float64"
            ]
          },
          "metadata": {
            "tags": []
          },
          "execution_count": 15
        }
      ]
    },
    {
      "cell_type": "markdown",
      "metadata": {
        "id": "em38Br0zMRzb"
      },
      "source": [
        "###Selecting the topmost important features"
      ]
    },
    {
      "cell_type": "code",
      "metadata": {
        "id": "gDnuX1PLMVSJ"
      },
      "source": [
        "from sklearn.feature_selection import SelectKBest"
      ],
      "execution_count": 16,
      "outputs": []
    },
    {
      "cell_type": "code",
      "metadata": {
        "id": "lYPwKkwqMb2D"
      },
      "source": [
        "#Selecting the top 7 features"
      ],
      "execution_count": 17,
      "outputs": []
    },
    {
      "cell_type": "code",
      "metadata": {
        "id": "F1U25Eh2MhRG"
      },
      "source": [
        "cols = SelectKBest(mutual_info_classif,k =7)"
      ],
      "execution_count": 18,
      "outputs": []
    },
    {
      "cell_type": "code",
      "metadata": {
        "colab": {
          "base_uri": "https://localhost:8080/"
        },
        "id": "7ZCG58pXMrcq",
        "outputId": "e6361173-1f76-4d49-d69b-d58db953dab2"
      },
      "source": [
        "cols.fit(x_train,y_train)"
      ],
      "execution_count": 19,
      "outputs": [
        {
          "output_type": "execute_result",
          "data": {
            "text/plain": [
              "SelectKBest(k=7, score_func=<function mutual_info_classif at 0x7fae2235e290>)"
            ]
          },
          "metadata": {
            "tags": []
          },
          "execution_count": 19
        }
      ]
    },
    {
      "cell_type": "code",
      "metadata": {
        "colab": {
          "base_uri": "https://localhost:8080/"
        },
        "id": "R2LX2PiwMtwu",
        "outputId": "caf5b5af-32c8-477d-f885-1e7c760354a4"
      },
      "source": [
        "x_train.columns[cols.get_support()]"
      ],
      "execution_count": 22,
      "outputs": [
        {
          "output_type": "execute_result",
          "data": {
            "text/plain": [
              "Index(['alcohol', 'total_phenols', 'flavanoids', 'color_intensity', 'hue',\n",
              "       'od280/od315_of_diluted_wines', 'proline'],\n",
              "      dtype='object')"
            ]
          },
          "metadata": {
            "tags": []
          },
          "execution_count": 22
        }
      ]
    },
    {
      "cell_type": "code",
      "metadata": {
        "id": "s6fzz18WNJ_m"
      },
      "source": [
        ""
      ],
      "execution_count": null,
      "outputs": []
    }
  ]
}